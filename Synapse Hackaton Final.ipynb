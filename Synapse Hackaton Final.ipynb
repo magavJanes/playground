{
 "cells": [
  {
   "cell_type": "markdown",
   "metadata": {},
   "source": [
    "## Synapse.Hack\n",
    "<p>\n",
    "    Использованы только данные по CPU, исключены данные по трафику.\n",
    "</p>"
   ]
  },
  {
   "cell_type": "code",
   "execution_count": 1,
   "metadata": {
    "collapsed": true
   },
   "outputs": [],
   "source": [
    "%matplotlib inline\n",
    "import os\n",
    "import pandas as pd\n",
    "import matplotlib.pyplot as plt\n",
    "import numpy as np\n",
    "import re\n",
    "from datetime import datetime, timedelta"
   ]
  },
  {
   "cell_type": "markdown",
   "metadata": {},
   "source": [
    "<p>\n",
    "Загрузим тренировочный набор и посмотрим на него:\n",
    "</p>"
   ]
  },
  {
   "cell_type": "code",
   "execution_count": 2,
   "metadata": {
    "scrolled": true
   },
   "outputs": [
    {
     "data": {
      "text/html": [
       "<div>\n",
       "<style scoped>\n",
       "    .dataframe tbody tr th:only-of-type {\n",
       "        vertical-align: middle;\n",
       "    }\n",
       "\n",
       "    .dataframe tbody tr th {\n",
       "        vertical-align: top;\n",
       "    }\n",
       "\n",
       "    .dataframe thead th {\n",
       "        text-align: right;\n",
       "    }\n",
       "</style>\n",
       "<table border=\"1\" class=\"dataframe\">\n",
       "  <thead>\n",
       "    <tr style=\"text-align: right;\">\n",
       "      <th></th>\n",
       "      <th>date</th>\n",
       "      <th>service_name</th>\n",
       "      <th>cpu</th>\n",
       "      <th>recieved_bytes</th>\n",
       "      <th>transmitted_bytes</th>\n",
       "    </tr>\n",
       "  </thead>\n",
       "  <tbody>\n",
       "    <tr>\n",
       "      <th>0</th>\n",
       "      <td>1598325000000000000</td>\n",
       "      <td>srv0</td>\n",
       "      <td>0.014633</td>\n",
       "      <td>39752.63</td>\n",
       "      <td>76176.21</td>\n",
       "    </tr>\n",
       "    <tr>\n",
       "      <th>1</th>\n",
       "      <td>1598325300000000000</td>\n",
       "      <td>srv0</td>\n",
       "      <td>0.014996</td>\n",
       "      <td>43341.84</td>\n",
       "      <td>76860.80</td>\n",
       "    </tr>\n",
       "    <tr>\n",
       "      <th>2</th>\n",
       "      <td>1598325600000000000</td>\n",
       "      <td>srv0</td>\n",
       "      <td>0.014508</td>\n",
       "      <td>36184.17</td>\n",
       "      <td>77465.36</td>\n",
       "    </tr>\n",
       "    <tr>\n",
       "      <th>3</th>\n",
       "      <td>1598325900000000000</td>\n",
       "      <td>srv0</td>\n",
       "      <td>0.015153</td>\n",
       "      <td>38901.52</td>\n",
       "      <td>77920.40</td>\n",
       "    </tr>\n",
       "    <tr>\n",
       "      <th>4</th>\n",
       "      <td>1598326200000000000</td>\n",
       "      <td>srv0</td>\n",
       "      <td>0.015373</td>\n",
       "      <td>42180.09</td>\n",
       "      <td>81457.19</td>\n",
       "    </tr>\n",
       "  </tbody>\n",
       "</table>\n",
       "</div>"
      ],
      "text/plain": [
       "                  date service_name       cpu  recieved_bytes  \\\n",
       "0  1598325000000000000         srv0  0.014633        39752.63   \n",
       "1  1598325300000000000         srv0  0.014996        43341.84   \n",
       "2  1598325600000000000         srv0  0.014508        36184.17   \n",
       "3  1598325900000000000         srv0  0.015153        38901.52   \n",
       "4  1598326200000000000         srv0  0.015373        42180.09   \n",
       "\n",
       "   transmitted_bytes  \n",
       "0           76176.21  \n",
       "1           76860.80  \n",
       "2           77465.36  \n",
       "3           77920.40  \n",
       "4           81457.19  "
      ]
     },
     "execution_count": 2,
     "metadata": {},
     "output_type": "execute_result"
    }
   ],
   "source": [
    "df_train = pd.read_csv('train.csv')\n",
    "df_train.head()"
   ]
  },
  {
   "cell_type": "code",
   "execution_count": 3,
   "metadata": {},
   "outputs": [
    {
     "data": {
      "text/html": [
       "<div>\n",
       "<style scoped>\n",
       "    .dataframe tbody tr th:only-of-type {\n",
       "        vertical-align: middle;\n",
       "    }\n",
       "\n",
       "    .dataframe tbody tr th {\n",
       "        vertical-align: top;\n",
       "    }\n",
       "\n",
       "    .dataframe thead th {\n",
       "        text-align: right;\n",
       "    }\n",
       "</style>\n",
       "<table border=\"1\" class=\"dataframe\">\n",
       "  <thead>\n",
       "    <tr style=\"text-align: right;\">\n",
       "      <th></th>\n",
       "      <th>date</th>\n",
       "      <th>cpu</th>\n",
       "      <th>recieved_bytes</th>\n",
       "      <th>transmitted_bytes</th>\n",
       "    </tr>\n",
       "  </thead>\n",
       "  <tbody>\n",
       "    <tr>\n",
       "      <th>count</th>\n",
       "      <td>6.912000e+04</td>\n",
       "      <td>56051.000000</td>\n",
       "      <td>5.604900e+04</td>\n",
       "      <td>5.604900e+04</td>\n",
       "    </tr>\n",
       "    <tr>\n",
       "      <th>mean</th>\n",
       "      <td>1.600917e+18</td>\n",
       "      <td>0.066650</td>\n",
       "      <td>1.696429e+05</td>\n",
       "      <td>3.392793e+05</td>\n",
       "    </tr>\n",
       "    <tr>\n",
       "      <th>std</th>\n",
       "      <td>1.496503e+15</td>\n",
       "      <td>0.047884</td>\n",
       "      <td>1.401244e+05</td>\n",
       "      <td>2.522340e+05</td>\n",
       "    </tr>\n",
       "    <tr>\n",
       "      <th>min</th>\n",
       "      <td>1.598325e+18</td>\n",
       "      <td>0.001008</td>\n",
       "      <td>2.203431e+03</td>\n",
       "      <td>2.137374e+03</td>\n",
       "    </tr>\n",
       "    <tr>\n",
       "      <th>25%</th>\n",
       "      <td>1.599621e+18</td>\n",
       "      <td>0.024231</td>\n",
       "      <td>5.654866e+04</td>\n",
       "      <td>1.144842e+05</td>\n",
       "    </tr>\n",
       "    <tr>\n",
       "      <th>50%</th>\n",
       "      <td>1.600917e+18</td>\n",
       "      <td>0.050910</td>\n",
       "      <td>1.219652e+05</td>\n",
       "      <td>2.526022e+05</td>\n",
       "    </tr>\n",
       "    <tr>\n",
       "      <th>75%</th>\n",
       "      <td>1.602213e+18</td>\n",
       "      <td>0.106674</td>\n",
       "      <td>2.493499e+05</td>\n",
       "      <td>5.601930e+05</td>\n",
       "    </tr>\n",
       "    <tr>\n",
       "      <th>max</th>\n",
       "      <td>1.603509e+18</td>\n",
       "      <td>0.359843</td>\n",
       "      <td>1.504770e+06</td>\n",
       "      <td>2.281394e+06</td>\n",
       "    </tr>\n",
       "  </tbody>\n",
       "</table>\n",
       "</div>"
      ],
      "text/plain": [
       "               date           cpu  recieved_bytes  transmitted_bytes\n",
       "count  6.912000e+04  56051.000000    5.604900e+04       5.604900e+04\n",
       "mean   1.600917e+18      0.066650    1.696429e+05       3.392793e+05\n",
       "std    1.496503e+15      0.047884    1.401244e+05       2.522340e+05\n",
       "min    1.598325e+18      0.001008    2.203431e+03       2.137374e+03\n",
       "25%    1.599621e+18      0.024231    5.654866e+04       1.144842e+05\n",
       "50%    1.600917e+18      0.050910    1.219652e+05       2.526022e+05\n",
       "75%    1.602213e+18      0.106674    2.493499e+05       5.601930e+05\n",
       "max    1.603509e+18      0.359843    1.504770e+06       2.281394e+06"
      ]
     },
     "execution_count": 3,
     "metadata": {},
     "output_type": "execute_result"
    }
   ],
   "source": [
    "df_train.describe()"
   ]
  },
  {
   "cell_type": "markdown",
   "metadata": {},
   "source": [
    "<p>\n",
    "Обратим внимание на то, что количество значений *cpu* несколько меньше чем значений *date*. Это указывает на отсутствующие значения *cpu* - обратим их в ноль. Но сначала удалим лишнее:\n",
    "</p>"
   ]
  },
  {
   "cell_type": "code",
   "execution_count": 4,
   "metadata": {
    "collapsed": true
   },
   "outputs": [],
   "source": [
    "df_train.drop(['recieved_bytes', 'transmitted_bytes'], axis=1, inplace=True)\n",
    "df_train.fillna(value=0, inplace=True)"
   ]
  },
  {
   "cell_type": "code",
   "execution_count": 5,
   "metadata": {},
   "outputs": [
    {
     "data": {
      "text/html": [
       "<div>\n",
       "<style scoped>\n",
       "    .dataframe tbody tr th:only-of-type {\n",
       "        vertical-align: middle;\n",
       "    }\n",
       "\n",
       "    .dataframe tbody tr th {\n",
       "        vertical-align: top;\n",
       "    }\n",
       "\n",
       "    .dataframe thead th {\n",
       "        text-align: right;\n",
       "    }\n",
       "</style>\n",
       "<table border=\"1\" class=\"dataframe\">\n",
       "  <thead>\n",
       "    <tr style=\"text-align: right;\">\n",
       "      <th></th>\n",
       "      <th>date</th>\n",
       "      <th>service_name</th>\n",
       "      <th>cpu</th>\n",
       "    </tr>\n",
       "  </thead>\n",
       "  <tbody>\n",
       "    <tr>\n",
       "      <th>count</th>\n",
       "      <td>6.912000e+04</td>\n",
       "      <td>69120</td>\n",
       "      <td>69120.000000</td>\n",
       "    </tr>\n",
       "    <tr>\n",
       "      <th>unique</th>\n",
       "      <td>NaN</td>\n",
       "      <td>4</td>\n",
       "      <td>NaN</td>\n",
       "    </tr>\n",
       "    <tr>\n",
       "      <th>top</th>\n",
       "      <td>NaN</td>\n",
       "      <td>srv0</td>\n",
       "      <td>NaN</td>\n",
       "    </tr>\n",
       "    <tr>\n",
       "      <th>freq</th>\n",
       "      <td>NaN</td>\n",
       "      <td>17280</td>\n",
       "      <td>NaN</td>\n",
       "    </tr>\n",
       "    <tr>\n",
       "      <th>mean</th>\n",
       "      <td>1.600917e+18</td>\n",
       "      <td>NaN</td>\n",
       "      <td>0.054048</td>\n",
       "    </tr>\n",
       "    <tr>\n",
       "      <th>std</th>\n",
       "      <td>1.496503e+15</td>\n",
       "      <td>NaN</td>\n",
       "      <td>0.050403</td>\n",
       "    </tr>\n",
       "    <tr>\n",
       "      <th>min</th>\n",
       "      <td>1.598325e+18</td>\n",
       "      <td>NaN</td>\n",
       "      <td>0.000000</td>\n",
       "    </tr>\n",
       "    <tr>\n",
       "      <th>25%</th>\n",
       "      <td>1.599621e+18</td>\n",
       "      <td>NaN</td>\n",
       "      <td>0.011536</td>\n",
       "    </tr>\n",
       "    <tr>\n",
       "      <th>50%</th>\n",
       "      <td>1.600917e+18</td>\n",
       "      <td>NaN</td>\n",
       "      <td>0.036352</td>\n",
       "    </tr>\n",
       "    <tr>\n",
       "      <th>75%</th>\n",
       "      <td>1.602213e+18</td>\n",
       "      <td>NaN</td>\n",
       "      <td>0.096691</td>\n",
       "    </tr>\n",
       "    <tr>\n",
       "      <th>max</th>\n",
       "      <td>1.603509e+18</td>\n",
       "      <td>NaN</td>\n",
       "      <td>0.359843</td>\n",
       "    </tr>\n",
       "  </tbody>\n",
       "</table>\n",
       "</div>"
      ],
      "text/plain": [
       "                date service_name           cpu\n",
       "count   6.912000e+04        69120  69120.000000\n",
       "unique           NaN            4           NaN\n",
       "top              NaN         srv0           NaN\n",
       "freq             NaN        17280           NaN\n",
       "mean    1.600917e+18          NaN      0.054048\n",
       "std     1.496503e+15          NaN      0.050403\n",
       "min     1.598325e+18          NaN      0.000000\n",
       "25%     1.599621e+18          NaN      0.011536\n",
       "50%     1.600917e+18          NaN      0.036352\n",
       "75%     1.602213e+18          NaN      0.096691\n",
       "max     1.603509e+18          NaN      0.359843"
      ]
     },
     "execution_count": 5,
     "metadata": {},
     "output_type": "execute_result"
    }
   ],
   "source": [
    "df_train.describe(include='all')"
   ]
  },
  {
   "cell_type": "code",
   "execution_count": 6,
   "metadata": {},
   "outputs": [
    {
     "data": {
      "text/plain": [
       "srv0    17280\n",
       "srv2    17280\n",
       "srv3    17280\n",
       "srv1    17280\n",
       "Name: service_name, dtype: int64"
      ]
     },
     "execution_count": 6,
     "metadata": {},
     "output_type": "execute_result"
    }
   ],
   "source": [
    "df_train['service_name'].value_counts()"
   ]
  },
  {
   "cell_type": "markdown",
   "metadata": {},
   "source": [
    "<p>\n",
    "Переведём *date* в __человеческий__ формат:\n",
    "</p>"
   ]
  },
  {
   "cell_type": "code",
   "execution_count": 7,
   "metadata": {
    "collapsed": true
   },
   "outputs": [],
   "source": [
    "df_train['timestamp'] = pd.to_datetime(df_train['date'])"
   ]
  },
  {
   "cell_type": "code",
   "execution_count": 8,
   "metadata": {},
   "outputs": [
    {
     "data": {
      "text/html": [
       "<div>\n",
       "<style scoped>\n",
       "    .dataframe tbody tr th:only-of-type {\n",
       "        vertical-align: middle;\n",
       "    }\n",
       "\n",
       "    .dataframe tbody tr th {\n",
       "        vertical-align: top;\n",
       "    }\n",
       "\n",
       "    .dataframe thead th {\n",
       "        text-align: right;\n",
       "    }\n",
       "</style>\n",
       "<table border=\"1\" class=\"dataframe\">\n",
       "  <thead>\n",
       "    <tr style=\"text-align: right;\">\n",
       "      <th></th>\n",
       "      <th>date</th>\n",
       "      <th>service_name</th>\n",
       "      <th>cpu</th>\n",
       "      <th>timestamp</th>\n",
       "    </tr>\n",
       "  </thead>\n",
       "  <tbody>\n",
       "    <tr>\n",
       "      <th>0</th>\n",
       "      <td>1598325000000000000</td>\n",
       "      <td>srv0</td>\n",
       "      <td>0.014633</td>\n",
       "      <td>2020-08-25 03:10:00</td>\n",
       "    </tr>\n",
       "    <tr>\n",
       "      <th>1</th>\n",
       "      <td>1598325300000000000</td>\n",
       "      <td>srv0</td>\n",
       "      <td>0.014996</td>\n",
       "      <td>2020-08-25 03:15:00</td>\n",
       "    </tr>\n",
       "    <tr>\n",
       "      <th>2</th>\n",
       "      <td>1598325600000000000</td>\n",
       "      <td>srv0</td>\n",
       "      <td>0.014508</td>\n",
       "      <td>2020-08-25 03:20:00</td>\n",
       "    </tr>\n",
       "    <tr>\n",
       "      <th>3</th>\n",
       "      <td>1598325900000000000</td>\n",
       "      <td>srv0</td>\n",
       "      <td>0.015153</td>\n",
       "      <td>2020-08-25 03:25:00</td>\n",
       "    </tr>\n",
       "    <tr>\n",
       "      <th>4</th>\n",
       "      <td>1598326200000000000</td>\n",
       "      <td>srv0</td>\n",
       "      <td>0.015373</td>\n",
       "      <td>2020-08-25 03:30:00</td>\n",
       "    </tr>\n",
       "  </tbody>\n",
       "</table>\n",
       "</div>"
      ],
      "text/plain": [
       "                  date service_name       cpu           timestamp\n",
       "0  1598325000000000000         srv0  0.014633 2020-08-25 03:10:00\n",
       "1  1598325300000000000         srv0  0.014996 2020-08-25 03:15:00\n",
       "2  1598325600000000000         srv0  0.014508 2020-08-25 03:20:00\n",
       "3  1598325900000000000         srv0  0.015153 2020-08-25 03:25:00\n",
       "4  1598326200000000000         srv0  0.015373 2020-08-25 03:30:00"
      ]
     },
     "execution_count": 8,
     "metadata": {},
     "output_type": "execute_result"
    }
   ],
   "source": [
    "df_train.head()"
   ]
  },
  {
   "cell_type": "markdown",
   "metadata": {},
   "source": [
    "Видим что измерения происходят каждые пять минут, т.е. мы имеем двенадцать измерений в час.\n",
    "\n",
    "\n",
    "> Основная идея всего решения заключается в том, что нагрузка на систему, например в понедельник в 10 утра, в среднем такая же как и в любой другой понедельник в 10 утра.\n",
    "\n",
    "\n",
    "Разберём *timestamp* по косточкам. Достанем из него день недели и час, в котором произведены измереня и номер измерения внутри часа: "
   ]
  },
  {
   "cell_type": "code",
   "execution_count": 10,
   "metadata": {
    "collapsed": true
   },
   "outputs": [],
   "source": [
    "df_train['day_of_week'] = df_train['timestamp'].dt.dayofweek.astype(int)\n",
    "df_train['hour_of_measure'] = df_train['timestamp'].dt.hour.astype(int)\n",
    "df_train['index_of_measure'] = (df_train['timestamp'].dt.minute/5).astype(int)"
   ]
  },
  {
   "cell_type": "code",
   "execution_count": 11,
   "metadata": {},
   "outputs": [
    {
     "data": {
      "text/html": [
       "<div>\n",
       "<style scoped>\n",
       "    .dataframe tbody tr th:only-of-type {\n",
       "        vertical-align: middle;\n",
       "    }\n",
       "\n",
       "    .dataframe tbody tr th {\n",
       "        vertical-align: top;\n",
       "    }\n",
       "\n",
       "    .dataframe thead th {\n",
       "        text-align: right;\n",
       "    }\n",
       "</style>\n",
       "<table border=\"1\" class=\"dataframe\">\n",
       "  <thead>\n",
       "    <tr style=\"text-align: right;\">\n",
       "      <th></th>\n",
       "      <th>date</th>\n",
       "      <th>service_name</th>\n",
       "      <th>cpu</th>\n",
       "      <th>timestamp</th>\n",
       "      <th>day_of_week</th>\n",
       "      <th>hour_of_measure</th>\n",
       "      <th>index_of_measure</th>\n",
       "    </tr>\n",
       "  </thead>\n",
       "  <tbody>\n",
       "    <tr>\n",
       "      <th>0</th>\n",
       "      <td>1598325000000000000</td>\n",
       "      <td>srv0</td>\n",
       "      <td>0.014633</td>\n",
       "      <td>2020-08-25 03:10:00</td>\n",
       "      <td>1</td>\n",
       "      <td>3</td>\n",
       "      <td>2</td>\n",
       "    </tr>\n",
       "    <tr>\n",
       "      <th>1</th>\n",
       "      <td>1598325300000000000</td>\n",
       "      <td>srv0</td>\n",
       "      <td>0.014996</td>\n",
       "      <td>2020-08-25 03:15:00</td>\n",
       "      <td>1</td>\n",
       "      <td>3</td>\n",
       "      <td>3</td>\n",
       "    </tr>\n",
       "    <tr>\n",
       "      <th>2</th>\n",
       "      <td>1598325600000000000</td>\n",
       "      <td>srv0</td>\n",
       "      <td>0.014508</td>\n",
       "      <td>2020-08-25 03:20:00</td>\n",
       "      <td>1</td>\n",
       "      <td>3</td>\n",
       "      <td>4</td>\n",
       "    </tr>\n",
       "    <tr>\n",
       "      <th>3</th>\n",
       "      <td>1598325900000000000</td>\n",
       "      <td>srv0</td>\n",
       "      <td>0.015153</td>\n",
       "      <td>2020-08-25 03:25:00</td>\n",
       "      <td>1</td>\n",
       "      <td>3</td>\n",
       "      <td>5</td>\n",
       "    </tr>\n",
       "    <tr>\n",
       "      <th>4</th>\n",
       "      <td>1598326200000000000</td>\n",
       "      <td>srv0</td>\n",
       "      <td>0.015373</td>\n",
       "      <td>2020-08-25 03:30:00</td>\n",
       "      <td>1</td>\n",
       "      <td>3</td>\n",
       "      <td>6</td>\n",
       "    </tr>\n",
       "  </tbody>\n",
       "</table>\n",
       "</div>"
      ],
      "text/plain": [
       "                  date service_name       cpu           timestamp  \\\n",
       "0  1598325000000000000         srv0  0.014633 2020-08-25 03:10:00   \n",
       "1  1598325300000000000         srv0  0.014996 2020-08-25 03:15:00   \n",
       "2  1598325600000000000         srv0  0.014508 2020-08-25 03:20:00   \n",
       "3  1598325900000000000         srv0  0.015153 2020-08-25 03:25:00   \n",
       "4  1598326200000000000         srv0  0.015373 2020-08-25 03:30:00   \n",
       "\n",
       "   day_of_week  hour_of_measure  index_of_measure  \n",
       "0            1                3                 2  \n",
       "1            1                3                 3  \n",
       "2            1                3                 4  \n",
       "3            1                3                 5  \n",
       "4            1                3                 6  "
      ]
     },
     "execution_count": 11,
     "metadata": {},
     "output_type": "execute_result"
    }
   ],
   "source": [
    "df_train.head()"
   ]
  },
  {
   "cell_type": "markdown",
   "metadata": {},
   "source": [
    "Посчитаем средние значения *cpu* для каждого сервиса на каждый день недели, на каждый час и на каждое измерение:"
   ]
  },
  {
   "cell_type": "code",
   "execution_count": 12,
   "metadata": {},
   "outputs": [
    {
     "data": {
      "text/html": [
       "<div>\n",
       "<style scoped>\n",
       "    .dataframe tbody tr th:only-of-type {\n",
       "        vertical-align: middle;\n",
       "    }\n",
       "\n",
       "    .dataframe tbody tr th {\n",
       "        vertical-align: top;\n",
       "    }\n",
       "\n",
       "    .dataframe thead th {\n",
       "        text-align: right;\n",
       "    }\n",
       "</style>\n",
       "<table border=\"1\" class=\"dataframe\">\n",
       "  <thead>\n",
       "    <tr style=\"text-align: right;\">\n",
       "      <th></th>\n",
       "      <th></th>\n",
       "      <th>cpu</th>\n",
       "    </tr>\n",
       "    <tr>\n",
       "      <th>day_of_week</th>\n",
       "      <th>service_name</th>\n",
       "      <th></th>\n",
       "    </tr>\n",
       "  </thead>\n",
       "  <tbody>\n",
       "    <tr>\n",
       "      <th rowspan=\"4\" valign=\"top\">0</th>\n",
       "      <th>srv0</th>\n",
       "      <td>0.081854</td>\n",
       "    </tr>\n",
       "    <tr>\n",
       "      <th>srv1</th>\n",
       "      <td>0.027882</td>\n",
       "    </tr>\n",
       "    <tr>\n",
       "      <th>srv2</th>\n",
       "      <td>0.070363</td>\n",
       "    </tr>\n",
       "    <tr>\n",
       "      <th>srv3</th>\n",
       "      <td>0.096629</td>\n",
       "    </tr>\n",
       "    <tr>\n",
       "      <th rowspan=\"4\" valign=\"top\">1</th>\n",
       "      <th>srv0</th>\n",
       "      <td>0.063721</td>\n",
       "    </tr>\n",
       "    <tr>\n",
       "      <th>srv1</th>\n",
       "      <td>0.021171</td>\n",
       "    </tr>\n",
       "    <tr>\n",
       "      <th>srv2</th>\n",
       "      <td>0.052546</td>\n",
       "    </tr>\n",
       "    <tr>\n",
       "      <th>srv3</th>\n",
       "      <td>0.072746</td>\n",
       "    </tr>\n",
       "    <tr>\n",
       "      <th rowspan=\"4\" valign=\"top\">2</th>\n",
       "      <th>srv0</th>\n",
       "      <td>0.076898</td>\n",
       "    </tr>\n",
       "    <tr>\n",
       "      <th>srv1</th>\n",
       "      <td>0.026012</td>\n",
       "    </tr>\n",
       "    <tr>\n",
       "      <th>srv2</th>\n",
       "      <td>0.064846</td>\n",
       "    </tr>\n",
       "    <tr>\n",
       "      <th>srv3</th>\n",
       "      <td>0.090530</td>\n",
       "    </tr>\n",
       "    <tr>\n",
       "      <th rowspan=\"4\" valign=\"top\">3</th>\n",
       "      <th>srv0</th>\n",
       "      <td>0.069657</td>\n",
       "    </tr>\n",
       "    <tr>\n",
       "      <th>srv1</th>\n",
       "      <td>0.023386</td>\n",
       "    </tr>\n",
       "    <tr>\n",
       "      <th>srv2</th>\n",
       "      <td>0.059330</td>\n",
       "    </tr>\n",
       "    <tr>\n",
       "      <th>srv3</th>\n",
       "      <td>0.082316</td>\n",
       "    </tr>\n",
       "    <tr>\n",
       "      <th rowspan=\"4\" valign=\"top\">4</th>\n",
       "      <th>srv0</th>\n",
       "      <td>0.056842</td>\n",
       "    </tr>\n",
       "    <tr>\n",
       "      <th>srv1</th>\n",
       "      <td>0.019367</td>\n",
       "    </tr>\n",
       "    <tr>\n",
       "      <th>srv2</th>\n",
       "      <td>0.055273</td>\n",
       "    </tr>\n",
       "    <tr>\n",
       "      <th>srv3</th>\n",
       "      <td>0.075927</td>\n",
       "    </tr>\n",
       "    <tr>\n",
       "      <th rowspan=\"4\" valign=\"top\">5</th>\n",
       "      <th>srv0</th>\n",
       "      <td>0.034683</td>\n",
       "    </tr>\n",
       "    <tr>\n",
       "      <th>srv1</th>\n",
       "      <td>0.011976</td>\n",
       "    </tr>\n",
       "    <tr>\n",
       "      <th>srv2</th>\n",
       "      <td>0.032447</td>\n",
       "    </tr>\n",
       "    <tr>\n",
       "      <th>srv3</th>\n",
       "      <td>0.044508</td>\n",
       "    </tr>\n",
       "    <tr>\n",
       "      <th rowspan=\"4\" valign=\"top\">6</th>\n",
       "      <th>srv0</th>\n",
       "      <td>0.056803</td>\n",
       "    </tr>\n",
       "    <tr>\n",
       "      <th>srv1</th>\n",
       "      <td>0.019559</td>\n",
       "    </tr>\n",
       "    <tr>\n",
       "      <th>srv2</th>\n",
       "      <td>0.051277</td>\n",
       "    </tr>\n",
       "    <tr>\n",
       "      <th>srv3</th>\n",
       "      <td>0.070494</td>\n",
       "    </tr>\n",
       "  </tbody>\n",
       "</table>\n",
       "</div>"
      ],
      "text/plain": [
       "                               cpu\n",
       "day_of_week service_name          \n",
       "0           srv0          0.081854\n",
       "            srv1          0.027882\n",
       "            srv2          0.070363\n",
       "            srv3          0.096629\n",
       "1           srv0          0.063721\n",
       "            srv1          0.021171\n",
       "            srv2          0.052546\n",
       "            srv3          0.072746\n",
       "2           srv0          0.076898\n",
       "            srv1          0.026012\n",
       "            srv2          0.064846\n",
       "            srv3          0.090530\n",
       "3           srv0          0.069657\n",
       "            srv1          0.023386\n",
       "            srv2          0.059330\n",
       "            srv3          0.082316\n",
       "4           srv0          0.056842\n",
       "            srv1          0.019367\n",
       "            srv2          0.055273\n",
       "            srv3          0.075927\n",
       "5           srv0          0.034683\n",
       "            srv1          0.011976\n",
       "            srv2          0.032447\n",
       "            srv3          0.044508\n",
       "6           srv0          0.056803\n",
       "            srv1          0.019559\n",
       "            srv2          0.051277\n",
       "            srv3          0.070494"
      ]
     },
     "execution_count": 12,
     "metadata": {},
     "output_type": "execute_result"
    }
   ],
   "source": [
    "df_daily_mean = df_train[['service_name','day_of_week','cpu']].groupby(['day_of_week', 'service_name']).mean()\n",
    "df_daily_mean"
   ]
  },
  {
   "cell_type": "code",
   "execution_count": 13,
   "metadata": {},
   "outputs": [
    {
     "data": {
      "text/html": [
       "<div>\n",
       "<style scoped>\n",
       "    .dataframe tbody tr th:only-of-type {\n",
       "        vertical-align: middle;\n",
       "    }\n",
       "\n",
       "    .dataframe tbody tr th {\n",
       "        vertical-align: top;\n",
       "    }\n",
       "\n",
       "    .dataframe thead th {\n",
       "        text-align: right;\n",
       "    }\n",
       "</style>\n",
       "<table border=\"1\" class=\"dataframe\">\n",
       "  <thead>\n",
       "    <tr style=\"text-align: right;\">\n",
       "      <th></th>\n",
       "      <th></th>\n",
       "      <th></th>\n",
       "      <th>cpu</th>\n",
       "    </tr>\n",
       "    <tr>\n",
       "      <th>day_of_week</th>\n",
       "      <th>hour_of_measure</th>\n",
       "      <th>service_name</th>\n",
       "      <th></th>\n",
       "    </tr>\n",
       "  </thead>\n",
       "  <tbody>\n",
       "    <tr>\n",
       "      <th rowspan=\"5\" valign=\"top\">0</th>\n",
       "      <th rowspan=\"4\" valign=\"top\">0</th>\n",
       "      <th>srv0</th>\n",
       "      <td>0.020308</td>\n",
       "    </tr>\n",
       "    <tr>\n",
       "      <th>srv1</th>\n",
       "      <td>0.007427</td>\n",
       "    </tr>\n",
       "    <tr>\n",
       "      <th>srv2</th>\n",
       "      <td>0.014913</td>\n",
       "    </tr>\n",
       "    <tr>\n",
       "      <th>srv3</th>\n",
       "      <td>0.021074</td>\n",
       "    </tr>\n",
       "    <tr>\n",
       "      <th>1</th>\n",
       "      <th>srv0</th>\n",
       "      <td>0.015006</td>\n",
       "    </tr>\n",
       "    <tr>\n",
       "      <th>...</th>\n",
       "      <th>...</th>\n",
       "      <th>...</th>\n",
       "      <td>...</td>\n",
       "    </tr>\n",
       "    <tr>\n",
       "      <th rowspan=\"5\" valign=\"top\">6</th>\n",
       "      <th>22</th>\n",
       "      <th>srv3</th>\n",
       "      <td>0.048720</td>\n",
       "    </tr>\n",
       "    <tr>\n",
       "      <th rowspan=\"4\" valign=\"top\">23</th>\n",
       "      <th>srv0</th>\n",
       "      <td>0.028613</td>\n",
       "    </tr>\n",
       "    <tr>\n",
       "      <th>srv1</th>\n",
       "      <td>0.009995</td>\n",
       "    </tr>\n",
       "    <tr>\n",
       "      <th>srv2</th>\n",
       "      <td>0.022408</td>\n",
       "    </tr>\n",
       "    <tr>\n",
       "      <th>srv3</th>\n",
       "      <td>0.031625</td>\n",
       "    </tr>\n",
       "  </tbody>\n",
       "</table>\n",
       "<p>672 rows × 1 columns</p>\n",
       "</div>"
      ],
      "text/plain": [
       "                                               cpu\n",
       "day_of_week hour_of_measure service_name          \n",
       "0           0               srv0          0.020308\n",
       "                            srv1          0.007427\n",
       "                            srv2          0.014913\n",
       "                            srv3          0.021074\n",
       "            1               srv0          0.015006\n",
       "...                                            ...\n",
       "6           22              srv3          0.048720\n",
       "            23              srv0          0.028613\n",
       "                            srv1          0.009995\n",
       "                            srv2          0.022408\n",
       "                            srv3          0.031625\n",
       "\n",
       "[672 rows x 1 columns]"
      ]
     },
     "execution_count": 13,
     "metadata": {},
     "output_type": "execute_result"
    }
   ],
   "source": [
    "df_hourly_mean = df_train[['service_name','day_of_week','hour_of_measure','cpu']].groupby(['day_of_week','hour_of_measure','service_name']).mean()\n",
    "df_hourly_mean"
   ]
  },
  {
   "cell_type": "code",
   "execution_count": 14,
   "metadata": {},
   "outputs": [
    {
     "data": {
      "text/html": [
       "<div>\n",
       "<style scoped>\n",
       "    .dataframe tbody tr th:only-of-type {\n",
       "        vertical-align: middle;\n",
       "    }\n",
       "\n",
       "    .dataframe tbody tr th {\n",
       "        vertical-align: top;\n",
       "    }\n",
       "\n",
       "    .dataframe thead th {\n",
       "        text-align: right;\n",
       "    }\n",
       "</style>\n",
       "<table border=\"1\" class=\"dataframe\">\n",
       "  <thead>\n",
       "    <tr style=\"text-align: right;\">\n",
       "      <th></th>\n",
       "      <th></th>\n",
       "      <th></th>\n",
       "      <th></th>\n",
       "      <th>cpu</th>\n",
       "    </tr>\n",
       "    <tr>\n",
       "      <th>day_of_week</th>\n",
       "      <th>hour_of_measure</th>\n",
       "      <th>index_of_measure</th>\n",
       "      <th>service_name</th>\n",
       "      <th></th>\n",
       "    </tr>\n",
       "  </thead>\n",
       "  <tbody>\n",
       "    <tr>\n",
       "      <th rowspan=\"5\" valign=\"top\">0</th>\n",
       "      <th rowspan=\"5\" valign=\"top\">0</th>\n",
       "      <th rowspan=\"4\" valign=\"top\">0</th>\n",
       "      <th>srv0</th>\n",
       "      <td>0.024524</td>\n",
       "    </tr>\n",
       "    <tr>\n",
       "      <th>srv1</th>\n",
       "      <td>0.008829</td>\n",
       "    </tr>\n",
       "    <tr>\n",
       "      <th>srv2</th>\n",
       "      <td>0.017659</td>\n",
       "    </tr>\n",
       "    <tr>\n",
       "      <th>srv3</th>\n",
       "      <td>0.025043</td>\n",
       "    </tr>\n",
       "    <tr>\n",
       "      <th>1</th>\n",
       "      <th>srv0</th>\n",
       "      <td>0.024028</td>\n",
       "    </tr>\n",
       "    <tr>\n",
       "      <th>...</th>\n",
       "      <th>...</th>\n",
       "      <th>...</th>\n",
       "      <th>...</th>\n",
       "      <td>...</td>\n",
       "    </tr>\n",
       "    <tr>\n",
       "      <th rowspan=\"5\" valign=\"top\">6</th>\n",
       "      <th rowspan=\"5\" valign=\"top\">23</th>\n",
       "      <th>10</th>\n",
       "      <th>srv3</th>\n",
       "      <td>0.026879</td>\n",
       "    </tr>\n",
       "    <tr>\n",
       "      <th rowspan=\"4\" valign=\"top\">11</th>\n",
       "      <th>srv0</th>\n",
       "      <td>0.024872</td>\n",
       "    </tr>\n",
       "    <tr>\n",
       "      <th>srv1</th>\n",
       "      <td>0.008760</td>\n",
       "    </tr>\n",
       "    <tr>\n",
       "      <th>srv2</th>\n",
       "      <td>0.018352</td>\n",
       "    </tr>\n",
       "    <tr>\n",
       "      <th>srv3</th>\n",
       "      <td>0.025968</td>\n",
       "    </tr>\n",
       "  </tbody>\n",
       "</table>\n",
       "<p>8064 rows × 1 columns</p>\n",
       "</div>"
      ],
      "text/plain": [
       "                                                                cpu\n",
       "day_of_week hour_of_measure index_of_measure service_name          \n",
       "0           0               0                srv0          0.024524\n",
       "                                             srv1          0.008829\n",
       "                                             srv2          0.017659\n",
       "                                             srv3          0.025043\n",
       "                            1                srv0          0.024028\n",
       "...                                                             ...\n",
       "6           23              10               srv3          0.026879\n",
       "                            11               srv0          0.024872\n",
       "                                             srv1          0.008760\n",
       "                                             srv2          0.018352\n",
       "                                             srv3          0.025968\n",
       "\n",
       "[8064 rows x 1 columns]"
      ]
     },
     "execution_count": 14,
     "metadata": {},
     "output_type": "execute_result"
    }
   ],
   "source": [
    "df_measure_mean = df_train[['service_name','day_of_week','hour_of_measure','index_of_measure','cpu']].groupby(['day_of_week','hour_of_measure','index_of_measure','service_name']).mean()\n",
    "df_measure_mean"
   ]
  },
  {
   "cell_type": "markdown",
   "metadata": {
    "collapsed": true
   },
   "source": [
    "Занесём полученные значения в тренировочный набор:"
   ]
  },
  {
   "cell_type": "code",
   "execution_count": 15,
   "metadata": {
    "collapsed": true
   },
   "outputs": [],
   "source": [
    "df_train['cpu_daily_mean'] = df_train[['service_name','day_of_week']].apply(lambda x: df_daily_mean.loc[x[1],x[0]][0], axis=1)\n",
    "df_train['cpu_hourly_mean'] = df_train[['service_name','day_of_week','hour_of_measure']].apply(lambda x: df_hourly_mean.loc[x[1],x[2],x[0]][0], axis=1)\n",
    "df_train['cpu_measure_mean'] = df_train[['service_name','day_of_week','hour_of_measure','index_of_measure']].apply(lambda x: df_measure_mean.loc[x[1],x[2],x[3],x[0]][0], axis=1)"
   ]
  },
  {
   "cell_type": "markdown",
   "metadata": {},
   "source": [
    "Согласно заданию нам необходимо определить значения *cpu* текущего часа исходя из значений часа предыдущего. Создадим такой атрибут посредством операции *shift*. Для корректного *смещения* разделим тренировочный набор на четыре части(по каждому севису), выполним *смещение* и соединим всё обратно."
   ]
  },
  {
   "cell_type": "code",
   "execution_count": 16,
   "metadata": {},
   "outputs": [],
   "source": [
    "df_train_srv0 = df_train[df_train['service_name'] == 'srv0'].copy()\n"
   ]
  },
  {
   "cell_type": "code",
   "execution_count": 17,
   "metadata": {
    "collapsed": true
   },
   "outputs": [],
   "source": [
    "df_train_srv0['prev_cpu'] = df_train_srv0['cpu'].shift(12)"
   ]
  },
  {
   "cell_type": "markdown",
   "metadata": {},
   "source": [
    "> Если внимательно взглянуть на тестовый набор (test.csv), то можно увидеть, что значения *cpu*, которые определены в предыдущем часе, никогда не бывают нулевыми. \n",
    "\n",
    "Следовательно, из тренировочного набора мы их просто выкидываем:"
   ]
  },
  {
   "cell_type": "code",
   "execution_count": 18,
   "metadata": {},
   "outputs": [],
   "source": [
    "df_train_srv0 = df_train_srv0[df_train_srv0['cpu']>0]"
   ]
  },
  {
   "cell_type": "code",
   "execution_count": 19,
   "metadata": {},
   "outputs": [
    {
     "data": {
      "text/html": [
       "<div>\n",
       "<style scoped>\n",
       "    .dataframe tbody tr th:only-of-type {\n",
       "        vertical-align: middle;\n",
       "    }\n",
       "\n",
       "    .dataframe tbody tr th {\n",
       "        vertical-align: top;\n",
       "    }\n",
       "\n",
       "    .dataframe thead th {\n",
       "        text-align: right;\n",
       "    }\n",
       "</style>\n",
       "<table border=\"1\" class=\"dataframe\">\n",
       "  <thead>\n",
       "    <tr style=\"text-align: right;\">\n",
       "      <th></th>\n",
       "      <th>date</th>\n",
       "      <th>service_name</th>\n",
       "      <th>cpu</th>\n",
       "      <th>timestamp</th>\n",
       "      <th>day_of_week</th>\n",
       "      <th>hour_of_measure</th>\n",
       "      <th>index_of_measure</th>\n",
       "      <th>cpu_daily_mean</th>\n",
       "      <th>cpu_hourly_mean</th>\n",
       "      <th>cpu_measure_mean</th>\n",
       "      <th>prev_cpu</th>\n",
       "    </tr>\n",
       "  </thead>\n",
       "  <tbody>\n",
       "    <tr>\n",
       "      <th>17275</th>\n",
       "      <td>1603507500000000000</td>\n",
       "      <td>srv0</td>\n",
       "      <td>0.017758</td>\n",
       "      <td>2020-10-24 02:45:00</td>\n",
       "      <td>5</td>\n",
       "      <td>2</td>\n",
       "      <td>9</td>\n",
       "      <td>0.034683</td>\n",
       "      <td>0.009441</td>\n",
       "      <td>0.009433</td>\n",
       "      <td>0.019466</td>\n",
       "    </tr>\n",
       "    <tr>\n",
       "      <th>17276</th>\n",
       "      <td>1603507800000000000</td>\n",
       "      <td>srv0</td>\n",
       "      <td>0.015819</td>\n",
       "      <td>2020-10-24 02:50:00</td>\n",
       "      <td>5</td>\n",
       "      <td>2</td>\n",
       "      <td>10</td>\n",
       "      <td>0.034683</td>\n",
       "      <td>0.009441</td>\n",
       "      <td>0.009334</td>\n",
       "      <td>0.019245</td>\n",
       "    </tr>\n",
       "    <tr>\n",
       "      <th>17277</th>\n",
       "      <td>1603508100000000000</td>\n",
       "      <td>srv0</td>\n",
       "      <td>0.001977</td>\n",
       "      <td>2020-10-24 02:55:00</td>\n",
       "      <td>5</td>\n",
       "      <td>2</td>\n",
       "      <td>11</td>\n",
       "      <td>0.034683</td>\n",
       "      <td>0.009441</td>\n",
       "      <td>0.007690</td>\n",
       "      <td>0.019102</td>\n",
       "    </tr>\n",
       "    <tr>\n",
       "      <th>17278</th>\n",
       "      <td>1603508400000000000</td>\n",
       "      <td>srv0</td>\n",
       "      <td>0.002625</td>\n",
       "      <td>2020-10-24 03:00:00</td>\n",
       "      <td>5</td>\n",
       "      <td>3</td>\n",
       "      <td>0</td>\n",
       "      <td>0.034683</td>\n",
       "      <td>0.008410</td>\n",
       "      <td>0.007958</td>\n",
       "      <td>0.018842</td>\n",
       "    </tr>\n",
       "    <tr>\n",
       "      <th>17279</th>\n",
       "      <td>1603508700000000000</td>\n",
       "      <td>srv0</td>\n",
       "      <td>0.012900</td>\n",
       "      <td>2020-10-24 03:05:00</td>\n",
       "      <td>5</td>\n",
       "      <td>3</td>\n",
       "      <td>1</td>\n",
       "      <td>0.034683</td>\n",
       "      <td>0.008410</td>\n",
       "      <td>0.009338</td>\n",
       "      <td>0.018812</td>\n",
       "    </tr>\n",
       "  </tbody>\n",
       "</table>\n",
       "</div>"
      ],
      "text/plain": [
       "                      date service_name       cpu           timestamp  \\\n",
       "17275  1603507500000000000         srv0  0.017758 2020-10-24 02:45:00   \n",
       "17276  1603507800000000000         srv0  0.015819 2020-10-24 02:50:00   \n",
       "17277  1603508100000000000         srv0  0.001977 2020-10-24 02:55:00   \n",
       "17278  1603508400000000000         srv0  0.002625 2020-10-24 03:00:00   \n",
       "17279  1603508700000000000         srv0  0.012900 2020-10-24 03:05:00   \n",
       "\n",
       "       day_of_week  hour_of_measure  index_of_measure  cpu_daily_mean  \\\n",
       "17275            5                2                 9        0.034683   \n",
       "17276            5                2                10        0.034683   \n",
       "17277            5                2                11        0.034683   \n",
       "17278            5                3                 0        0.034683   \n",
       "17279            5                3                 1        0.034683   \n",
       "\n",
       "       cpu_hourly_mean  cpu_measure_mean  prev_cpu  \n",
       "17275         0.009441          0.009433  0.019466  \n",
       "17276         0.009441          0.009334  0.019245  \n",
       "17277         0.009441          0.007690  0.019102  \n",
       "17278         0.008410          0.007958  0.018842  \n",
       "17279         0.008410          0.009338  0.018812  "
      ]
     },
     "execution_count": 19,
     "metadata": {},
     "output_type": "execute_result"
    }
   ],
   "source": [
    "df_train_srv0.tail()"
   ]
  },
  {
   "cell_type": "markdown",
   "metadata": {},
   "source": [
    "Повторим те же операции для остальных сервисов:"
   ]
  },
  {
   "cell_type": "code",
   "execution_count": 20,
   "metadata": {
    "collapsed": true
   },
   "outputs": [],
   "source": [
    "df_train_srv1 = df_train[df_train['service_name'] == 'srv1'].copy()\n",
    "df_train_srv2 = df_train[df_train['service_name'] == 'srv2'].copy()\n",
    "df_train_srv3 = df_train[df_train['service_name'] == 'srv3'].copy()"
   ]
  },
  {
   "cell_type": "code",
   "execution_count": 21,
   "metadata": {
    "collapsed": true
   },
   "outputs": [],
   "source": [
    "df_train_srv1['prev_cpu'] = df_train_srv1['cpu'].shift(12)\n",
    "df_train_srv2['prev_cpu'] = df_train_srv2['cpu'].shift(12)\n",
    "df_train_srv3['prev_cpu'] = df_train_srv3['cpu'].shift(12)"
   ]
  },
  {
   "cell_type": "code",
   "execution_count": 22,
   "metadata": {
    "collapsed": true
   },
   "outputs": [],
   "source": [
    "df_train_srv1 = df_train_srv1[df_train_srv1['cpu']>0]\n",
    "df_train_srv2 = df_train_srv2[df_train_srv2['cpu']>0]\n",
    "df_train_srv3 = df_train_srv3[df_train_srv3['cpu']>0]"
   ]
  },
  {
   "cell_type": "markdown",
   "metadata": {},
   "source": [
    "Соберём полный тренировочный набор:"
   ]
  },
  {
   "cell_type": "code",
   "execution_count": 23,
   "metadata": {},
   "outputs": [
    {
     "data": {
      "text/html": [
       "<div>\n",
       "<style scoped>\n",
       "    .dataframe tbody tr th:only-of-type {\n",
       "        vertical-align: middle;\n",
       "    }\n",
       "\n",
       "    .dataframe tbody tr th {\n",
       "        vertical-align: top;\n",
       "    }\n",
       "\n",
       "    .dataframe thead th {\n",
       "        text-align: right;\n",
       "    }\n",
       "</style>\n",
       "<table border=\"1\" class=\"dataframe\">\n",
       "  <thead>\n",
       "    <tr style=\"text-align: right;\">\n",
       "      <th></th>\n",
       "      <th>date</th>\n",
       "      <th>service_name</th>\n",
       "      <th>cpu</th>\n",
       "      <th>timestamp</th>\n",
       "      <th>day_of_week</th>\n",
       "      <th>hour_of_measure</th>\n",
       "      <th>index_of_measure</th>\n",
       "      <th>cpu_daily_mean</th>\n",
       "      <th>cpu_hourly_mean</th>\n",
       "      <th>cpu_measure_mean</th>\n",
       "      <th>prev_cpu</th>\n",
       "    </tr>\n",
       "  </thead>\n",
       "  <tbody>\n",
       "    <tr>\n",
       "      <th>0</th>\n",
       "      <td>1598325000000000000</td>\n",
       "      <td>srv0</td>\n",
       "      <td>0.014633</td>\n",
       "      <td>2020-08-25 03:10:00</td>\n",
       "      <td>1</td>\n",
       "      <td>3</td>\n",
       "      <td>2</td>\n",
       "      <td>0.063721</td>\n",
       "      <td>0.016518</td>\n",
       "      <td>0.015438</td>\n",
       "      <td>NaN</td>\n",
       "    </tr>\n",
       "    <tr>\n",
       "      <th>1</th>\n",
       "      <td>1598325300000000000</td>\n",
       "      <td>srv0</td>\n",
       "      <td>0.014996</td>\n",
       "      <td>2020-08-25 03:15:00</td>\n",
       "      <td>1</td>\n",
       "      <td>3</td>\n",
       "      <td>3</td>\n",
       "      <td>0.063721</td>\n",
       "      <td>0.016518</td>\n",
       "      <td>0.015564</td>\n",
       "      <td>NaN</td>\n",
       "    </tr>\n",
       "    <tr>\n",
       "      <th>2</th>\n",
       "      <td>1598325600000000000</td>\n",
       "      <td>srv0</td>\n",
       "      <td>0.014508</td>\n",
       "      <td>2020-08-25 03:20:00</td>\n",
       "      <td>1</td>\n",
       "      <td>3</td>\n",
       "      <td>4</td>\n",
       "      <td>0.063721</td>\n",
       "      <td>0.016518</td>\n",
       "      <td>0.015759</td>\n",
       "      <td>NaN</td>\n",
       "    </tr>\n",
       "    <tr>\n",
       "      <th>3</th>\n",
       "      <td>1598325900000000000</td>\n",
       "      <td>srv0</td>\n",
       "      <td>0.015153</td>\n",
       "      <td>2020-08-25 03:25:00</td>\n",
       "      <td>1</td>\n",
       "      <td>3</td>\n",
       "      <td>5</td>\n",
       "      <td>0.063721</td>\n",
       "      <td>0.016518</td>\n",
       "      <td>0.016020</td>\n",
       "      <td>NaN</td>\n",
       "    </tr>\n",
       "    <tr>\n",
       "      <th>4</th>\n",
       "      <td>1598326200000000000</td>\n",
       "      <td>srv0</td>\n",
       "      <td>0.015373</td>\n",
       "      <td>2020-08-25 03:30:00</td>\n",
       "      <td>1</td>\n",
       "      <td>3</td>\n",
       "      <td>6</td>\n",
       "      <td>0.063721</td>\n",
       "      <td>0.016518</td>\n",
       "      <td>0.016564</td>\n",
       "      <td>NaN</td>\n",
       "    </tr>\n",
       "    <tr>\n",
       "      <th>...</th>\n",
       "      <td>...</td>\n",
       "      <td>...</td>\n",
       "      <td>...</td>\n",
       "      <td>...</td>\n",
       "      <td>...</td>\n",
       "      <td>...</td>\n",
       "      <td>...</td>\n",
       "      <td>...</td>\n",
       "      <td>...</td>\n",
       "      <td>...</td>\n",
       "      <td>...</td>\n",
       "    </tr>\n",
       "    <tr>\n",
       "      <th>69115</th>\n",
       "      <td>1603507500000000000</td>\n",
       "      <td>srv3</td>\n",
       "      <td>0.021527</td>\n",
       "      <td>2020-10-24 02:45:00</td>\n",
       "      <td>5</td>\n",
       "      <td>2</td>\n",
       "      <td>9</td>\n",
       "      <td>0.044508</td>\n",
       "      <td>0.011322</td>\n",
       "      <td>0.011266</td>\n",
       "      <td>0.022668</td>\n",
       "    </tr>\n",
       "    <tr>\n",
       "      <th>69116</th>\n",
       "      <td>1603507800000000000</td>\n",
       "      <td>srv3</td>\n",
       "      <td>0.021254</td>\n",
       "      <td>2020-10-24 02:50:00</td>\n",
       "      <td>5</td>\n",
       "      <td>2</td>\n",
       "      <td>10</td>\n",
       "      <td>0.044508</td>\n",
       "      <td>0.011322</td>\n",
       "      <td>0.011243</td>\n",
       "      <td>0.022644</td>\n",
       "    </tr>\n",
       "    <tr>\n",
       "      <th>69117</th>\n",
       "      <td>1603508100000000000</td>\n",
       "      <td>srv3</td>\n",
       "      <td>0.021408</td>\n",
       "      <td>2020-10-24 02:55:00</td>\n",
       "      <td>5</td>\n",
       "      <td>2</td>\n",
       "      <td>11</td>\n",
       "      <td>0.044508</td>\n",
       "      <td>0.011322</td>\n",
       "      <td>0.011285</td>\n",
       "      <td>0.022446</td>\n",
       "    </tr>\n",
       "    <tr>\n",
       "      <th>69118</th>\n",
       "      <td>1603508400000000000</td>\n",
       "      <td>srv3</td>\n",
       "      <td>0.021849</td>\n",
       "      <td>2020-10-24 03:00:00</td>\n",
       "      <td>5</td>\n",
       "      <td>3</td>\n",
       "      <td>0</td>\n",
       "      <td>0.044508</td>\n",
       "      <td>0.011131</td>\n",
       "      <td>0.011626</td>\n",
       "      <td>0.022138</td>\n",
       "    </tr>\n",
       "    <tr>\n",
       "      <th>69119</th>\n",
       "      <td>1603508700000000000</td>\n",
       "      <td>srv3</td>\n",
       "      <td>0.022653</td>\n",
       "      <td>2020-10-24 03:05:00</td>\n",
       "      <td>5</td>\n",
       "      <td>3</td>\n",
       "      <td>1</td>\n",
       "      <td>0.044508</td>\n",
       "      <td>0.011131</td>\n",
       "      <td>0.011801</td>\n",
       "      <td>0.022206</td>\n",
       "    </tr>\n",
       "  </tbody>\n",
       "</table>\n",
       "<p>56051 rows × 11 columns</p>\n",
       "</div>"
      ],
      "text/plain": [
       "                      date service_name       cpu           timestamp  \\\n",
       "0      1598325000000000000         srv0  0.014633 2020-08-25 03:10:00   \n",
       "1      1598325300000000000         srv0  0.014996 2020-08-25 03:15:00   \n",
       "2      1598325600000000000         srv0  0.014508 2020-08-25 03:20:00   \n",
       "3      1598325900000000000         srv0  0.015153 2020-08-25 03:25:00   \n",
       "4      1598326200000000000         srv0  0.015373 2020-08-25 03:30:00   \n",
       "...                    ...          ...       ...                 ...   \n",
       "69115  1603507500000000000         srv3  0.021527 2020-10-24 02:45:00   \n",
       "69116  1603507800000000000         srv3  0.021254 2020-10-24 02:50:00   \n",
       "69117  1603508100000000000         srv3  0.021408 2020-10-24 02:55:00   \n",
       "69118  1603508400000000000         srv3  0.021849 2020-10-24 03:00:00   \n",
       "69119  1603508700000000000         srv3  0.022653 2020-10-24 03:05:00   \n",
       "\n",
       "       day_of_week  hour_of_measure  index_of_measure  cpu_daily_mean  \\\n",
       "0                1                3                 2        0.063721   \n",
       "1                1                3                 3        0.063721   \n",
       "2                1                3                 4        0.063721   \n",
       "3                1                3                 5        0.063721   \n",
       "4                1                3                 6        0.063721   \n",
       "...            ...              ...               ...             ...   \n",
       "69115            5                2                 9        0.044508   \n",
       "69116            5                2                10        0.044508   \n",
       "69117            5                2                11        0.044508   \n",
       "69118            5                3                 0        0.044508   \n",
       "69119            5                3                 1        0.044508   \n",
       "\n",
       "       cpu_hourly_mean  cpu_measure_mean  prev_cpu  \n",
       "0             0.016518          0.015438       NaN  \n",
       "1             0.016518          0.015564       NaN  \n",
       "2             0.016518          0.015759       NaN  \n",
       "3             0.016518          0.016020       NaN  \n",
       "4             0.016518          0.016564       NaN  \n",
       "...                ...               ...       ...  \n",
       "69115         0.011322          0.011266  0.022668  \n",
       "69116         0.011322          0.011243  0.022644  \n",
       "69117         0.011322          0.011285  0.022446  \n",
       "69118         0.011131          0.011626  0.022138  \n",
       "69119         0.011131          0.011801  0.022206  \n",
       "\n",
       "[56051 rows x 11 columns]"
      ]
     },
     "execution_count": 23,
     "metadata": {},
     "output_type": "execute_result"
    }
   ],
   "source": [
    "df_dataset = pd.concat([df_train_srv0, df_train_srv1, df_train_srv2, df_train_srv3])\n",
    "df_dataset"
   ]
  },
  {
   "cell_type": "markdown",
   "metadata": {},
   "source": [
    "Итак мы получили датасет для обучения. В качестве входных будем использовать следующие атрибуты:\n",
    "* *service_name* - имя сервиса (единственный категориальный атрибут)\n",
    "* *day_of_week* - день недели (0 - понедельник, 1 -  вторник, и т.д)\n",
    "* *hour_of_measure* - час, в которое произведено измерение (0-23) \n",
    "* *index_of_measure* - номер изменения внутри часа (каждй час производится 12 измерений)\n",
    "* *prev_cpu* - предыдущее значение *cpu* (соответствует значению *cpu* в предыдущем часе для такого же номера измерения)\n",
    "* *cpu_daily_mean* - среднее значение *cpu* за день (для каждого сервиса и дня недели)\n",
    "* *cpu_hourly_mean* - среднее значение *cpu* за час (для каждого сервиса и дня недели)\n",
    "* *cpu_measure_mean* - среднее значение *cpu* за измерение (для каждого сервиса, дня недели и часа)\n",
    "\n",
    "Для начала разделим датасет для обучения - выделим вход и выход."
   ]
  },
  {
   "cell_type": "code",
   "execution_count": 25,
   "metadata": {
    "collapsed": true
   },
   "outputs": [],
   "source": [
    "X_train = df_dataset[['service_name','day_of_week','hour_of_measure','index_of_measure','prev_cpu','cpu_daily_mean','cpu_hourly_mean','cpu_measure_mean']].copy()\n",
    "Y_train = df_dataset['cpu'].copy()"
   ]
  },
  {
   "cell_type": "markdown",
   "metadata": {},
   "source": [
    "В комплекте с файлами данных идёт файл с расчётом метрики. Используем функцию для дальнейших расчётов:"
   ]
  },
  {
   "cell_type": "code",
   "execution_count": 26,
   "metadata": {
    "collapsed": true
   },
   "outputs": [],
   "source": [
    "Np = 20\n",
    "p = 0.02\n",
    "def CountScore(test, referenceModel):\n",
    "    size = len(referenceModel)\n",
    "    if len(test) != size:\n",
    "        print(\"dimensions are not equal\")\n",
    "        return 0\n",
    "    counters = [0] * Np\n",
    "    for ref, t in zip(referenceModel, test):\n",
    "        dev = abs(ref - t)\n",
    "        for j in range(Np):\n",
    "            if dev < (j + 1) * p * t:\n",
    "                counters[j] += 1\n",
    "    metric = sum(counters) / size / Np\n",
    "    return metric"
   ]
  },
  {
   "cell_type": "markdown",
   "metadata": {},
   "source": [
    "Озаботимся некоторой степенью автоматизации. Сначала создадим пару классов, которые будут полезны для пайплайна-транформатора, преобразуюшего входные значения в приемлемый для машинного обучения вид.\n",
    "\n",
    "\n",
    "Первый класс - *DataFrameSelector*. Его задача преобразовать датафрейм pandas в масссив numpy.\n",
    "\n",
    "\n",
    "Второй класс - *CycleTransformator*. Это класс-кодировщик циклических атрибутов. Что я считаю циклическими атрибутами? Это атрибуты, описывющие события, происходящие с изрядной периодичностью. Например, у нас понедельник случается каждый понедельник, а 10 часов утра происходит в каждые 10 утра. И даже наши 12 измерений *cpu* в час происходят каждый час. Для кодировки таких атрибутов удобно использовать тригонометрические функции *sin* и *cos*. \n"
   ]
  },
  {
   "cell_type": "code",
   "execution_count": 28,
   "metadata": {
    "collapsed": true
   },
   "outputs": [],
   "source": [
    "from sklearn.pipeline import Pipeline\n",
    "from sklearn.preprocessing import StandardScaler\n",
    "from sklearn.base import BaseEstimator, TransformerMixin\n",
    "from sklearn.impute import SimpleImputer\n",
    "from sklearn.pipeline import FeatureUnion\n",
    "from sklearn.preprocessing import OneHotEncoder\n",
    "from sklearn.metrics import r2_score\n",
    "\n",
    "date_ix = 0\n",
    "\n",
    "class DataFrameSelector(BaseEstimator, TransformerMixin):\n",
    "    def __init__(self, attributes_names):\n",
    "        self.attributes_names = attributes_names\n",
    "    def fit(self, X, y=None):\n",
    "        return self\n",
    "    def transform(self, X):\n",
    "        return X[self.attributes_names].values # convert to NumPy array\n",
    "\n",
    "class CycleTransformator( BaseEstimator, TransformerMixin):\n",
    "    #Class Constructor \n",
    "    def __init__( self,  cycle_columns ):\n",
    "        self._cycle_columns = cycle_columns\n",
    "        self._cycle_stats = {}\n",
    "    \n",
    "    #Return self nothing else to do here    \n",
    "    def fit( self, X, y = None ):\n",
    "        for column in self._cycle_columns:\n",
    "            self._cycle_stats[column] = { 'max': X[column].max(), 'min': X[column].min() }\n",
    "        return self\n",
    "    \n",
    "    #Method that describes what we need this transformer to do\n",
    "    def transform( self, X, y = None ):\n",
    "        self._df = pd.DataFrame(index=X.index)\n",
    "        for column in self._cycle_columns:\n",
    "            self._df[column+'_sin'] = np.sin(2*np.pi/(self._cycle_stats[column]['max']+1)*X[column].fillna(self._cycle_stats[column]['min']-1))\n",
    "            self._df[column+'_cos'] = np.cos(2*np.pi/(self._cycle_stats[column]['max']+1)*X[column].fillna(self._cycle_stats[column]['min']-1))\n",
    "\n",
    "        #self._df = self._df.reset_index(drop=True)\n",
    "        #print('Cycle transform shape is {}'.format(self._df.values.shape))\n",
    "        return self._df.values"
   ]
  },
  {
   "cell_type": "markdown",
   "metadata": {},
   "source": [
    "Теперь создадим пайплайн для трансформации входных значений в numpy массив, котрый и будем использовать для обучения моделей. Я не использую *StandardScaler*, т.к. значения *cpu* уже лежат в пределах [0..1]. "
   ]
  },
  {
   "cell_type": "code",
   "execution_count": 29,
   "metadata": {
    "collapsed": true
   },
   "outputs": [],
   "source": [
    "num_attribs = ['prev_cpu','cpu_daily_mean','cpu_hourly_mean','cpu_measure_mean']\n",
    "cat_attribs = ['service_name']\n",
    "date_attribs = ['day_of_week', 'hour_of_measure', 'index_of_measure']\n",
    "\n",
    "num_pipeline = Pipeline([\n",
    "    ('selector', DataFrameSelector(num_attribs)),\n",
    "    ('imputer', SimpleImputer(strategy=\"median\")),\n",
    "#    ('std_scaler', StandardScaler()),\n",
    "])\n",
    "cat_pipeline = Pipeline([\n",
    "    ('selector', DataFrameSelector(cat_attribs)),\n",
    "    ('cat_encoder', OneHotEncoder(sparse=False)),\n",
    "])\n",
    "counted_pipeline = Pipeline([\n",
    "    ('cycle_transformator', CycleTransformator(cycle_columns=date_attribs)),\n",
    "])\n",
    "\n",
    "full_pipeline = FeatureUnion(transformer_list=[\n",
    "    ('num_pipeline', num_pipeline),\n",
    "    ('cat_pipeline', cat_pipeline),\n",
    "    ('counted_pipeline', counted_pipeline),\n",
    "])"
   ]
  },
  {
   "cell_type": "markdown",
   "metadata": {},
   "source": [
    "Поскольку данных немного, я не буду \"по классике\" разделять набор на обучающий и проверочный, а буду использовать просто кросс-валидацию."
   ]
  },
  {
   "cell_type": "code",
   "execution_count": 30,
   "metadata": {},
   "outputs": [
    {
     "data": {
      "text/plain": [
       "(56051, 14)"
      ]
     },
     "execution_count": 30,
     "metadata": {},
     "output_type": "execute_result"
    }
   ],
   "source": [
    "X_train_prepared = full_pipeline.fit_transform(X_train)\n",
    "X_train_prepared.shape"
   ]
  },
  {
   "cell_type": "markdown",
   "metadata": {},
   "source": [
    "Обучим несколько моделей и посмотрим на метрики и значения среднеквадратичной ошибки."
   ]
  },
  {
   "cell_type": "code",
   "execution_count": 32,
   "metadata": {},
   "outputs": [
    {
     "name": "stdout",
     "output_type": "stream",
     "text": [
      "Scores: [0.0129452  0.00732512 0.01034512 0.013506   0.02645976]\n",
      "Mean: 0.014116240344880907\n",
      "Std Deviation: 0.006548998079222805\n",
      "Metric: 0.99\n",
      "R2-score: 1.00\n"
     ]
    }
   ],
   "source": [
    "from sklearn.model_selection import cross_val_score\n",
    "from sklearn.tree import DecisionTreeRegressor\n",
    "\n",
    "def display_scores(scores):\n",
    "    print(\"Scores:\", scores)\n",
    "    print(\"Mean:\", scores.mean())\n",
    "    print(\"Std Deviation:\", scores.std())\n",
    "\n",
    "# train\n",
    "tree_reg = DecisionTreeRegressor(random_state=57)\n",
    "tree_reg.fit(X_train_prepared, Y_train)\n",
    "# predict\n",
    "hackAI_predictions = tree_reg.predict(X_train_prepared)\n",
    "\n",
    "scores = cross_val_score(tree_reg, X_train_prepared, Y_train, scoring=\"neg_mean_squared_error\")\n",
    "tree_rmse_scores = np.sqrt(-scores)\n",
    "\n",
    "display_scores(tree_rmse_scores)\n",
    "print(\"Metric: %.2f\" % CountScore(Y_train.values, hackAI_predictions) )\n",
    "print(\"R2-score: %.2f\" % r2_score(hackAI_predictions , Y_train.values) )"
   ]
  },
  {
   "cell_type": "code",
   "execution_count": 33,
   "metadata": {},
   "outputs": [
    {
     "name": "stdout",
     "output_type": "stream",
     "text": [
      "Scores: [0.00977249 0.00571492 0.00737922 0.00857103 0.02085083]\n",
      "Mean: 0.010457697138573627\n",
      "Std Deviation: 0.005366882701147156\n",
      "Metric: 0.98\n",
      "R2-score: 1.00\n"
     ]
    }
   ],
   "source": [
    "from sklearn.ensemble import RandomForestRegressor\n",
    "\n",
    "forest_reg = RandomForestRegressor(random_state=57)\n",
    "forest_reg.fit(X_train_prepared, Y_train.values)\n",
    "# predict\n",
    "hackAI_predictions = forest_reg.predict(X_train_prepared)\n",
    "\n",
    "scores = cross_val_score(forest_reg, X_train_prepared, Y_train.values, scoring=\"neg_mean_squared_error\")\n",
    "forest_rmse_scores = np.sqrt(-scores)\n",
    "display_scores(forest_rmse_scores)\n",
    "print(\"Metric: %.2f\" % CountScore(Y_train.values, hackAI_predictions) )\n",
    "print(\"R2-score: %.2f\" % r2_score(hackAI_predictions , Y_train.values) )"
   ]
  },
  {
   "cell_type": "markdown",
   "metadata": {},
   "source": [
    "Посмотрим какие атрибуты вносят наиболее весомый вклад в предсказания:"
   ]
  },
  {
   "cell_type": "code",
   "execution_count": 34,
   "metadata": {},
   "outputs": [
    {
     "data": {
      "text/plain": [
       "array([8.17093441e-01, 1.42818939e-03, 7.65837639e-03, 1.30799717e-01,\n",
       "       3.43366683e-04, 1.61429897e-04, 2.27335264e-04, 1.39907522e-03,\n",
       "       3.46704728e-03, 1.21518899e-03, 1.11014135e-02, 2.31570845e-02,\n",
       "       8.64106430e-04, 1.08422803e-03])"
      ]
     },
     "execution_count": 34,
     "metadata": {},
     "output_type": "execute_result"
    }
   ],
   "source": [
    "feature_importances = forest_reg.feature_importances_\n",
    "feature_importances"
   ]
  },
  {
   "cell_type": "code",
   "execution_count": 35,
   "metadata": {},
   "outputs": [
    {
     "data": {
      "text/plain": [
       "[(0.8170934413723446, 'prev_cpu'),\n",
       " (0.13079971705869553, 'cpu_measure_mean'),\n",
       " (0.02315708447126322, 'hour_of_measure_cos'),\n",
       " (0.011101413523226227, 'hour_of_measure_sin'),\n",
       " (0.007658376386239411, 'cpu_hourly_mean'),\n",
       " (0.003467047282835506, 'day_of_week_sin'),\n",
       " (0.0014281893878993347, 'cpu_daily_mean'),\n",
       " (0.0013990752192332952, 'srv3'),\n",
       " (0.0012151889922201323, 'day_of_week_cos'),\n",
       " (0.0010842280313858184, 'index_of_measure_cos'),\n",
       " (0.0008641064303826466, 'index_of_measure_sin'),\n",
       " (0.00034336668338013254, 'srv0'),\n",
       " (0.00022733526379498342, 'srv2'),\n",
       " (0.000161429897099018, 'srv1')]"
      ]
     },
     "execution_count": 35,
     "metadata": {},
     "output_type": "execute_result"
    }
   ],
   "source": [
    "cat_encoder = cat_pipeline.named_steps[\"cat_encoder\"]\n",
    "cat_one_hot_attribs = list(cat_encoder.categories_[0])\n",
    "counted_encoder = counted_pipeline.named_steps[\"cycle_transformator\"]\n",
    "counted_attribs = list(counted_encoder._df.columns)\n",
    "attributes = num_attribs + cat_one_hot_attribs + counted_attribs\n",
    "sorted(zip(feature_importances, attributes), reverse=True)"
   ]
  },
  {
   "cell_type": "markdown",
   "metadata": {},
   "source": [
    "Обучим ещё несколько моделей."
   ]
  },
  {
   "cell_type": "code",
   "execution_count": 36,
   "metadata": {},
   "outputs": [
    {
     "name": "stdout",
     "output_type": "stream",
     "text": [
      "Scores: [0.03648103 0.059947   0.04088903 0.04698442 0.04262454]\n",
      "Mean: 0.04538520310305193\n",
      "Std Deviation: 0.00802152999509224\n",
      "Metric: 0.24\n",
      "R2-score: -0.39\n"
     ]
    }
   ],
   "source": [
    "from sklearn import svm\n",
    "\n",
    "# train\n",
    "svm_reg = svm.SVR(gamma='auto')\n",
    "svm_reg.fit(X_train_prepared, Y_train)\n",
    "# predict\n",
    "hackAI_predictions = svm_reg.predict(X_train_prepared)\n",
    "\n",
    "scores = cross_val_score(svm_reg, X_train_prepared, Y_train, scoring=\"neg_mean_squared_error\")\n",
    "svm_rmse_scores = np.sqrt(-scores)\n",
    "\n",
    "display_scores(svm_rmse_scores)\n",
    "print(\"Metric: %.2f\" % CountScore(Y_train.values, hackAI_predictions) )\n",
    "print(\"R2-score: %.2f\" % r2_score(hackAI_predictions , Y_train.values) )"
   ]
  },
  {
   "cell_type": "code",
   "execution_count": 37,
   "metadata": {},
   "outputs": [
    {
     "name": "stdout",
     "output_type": "stream",
     "text": [
      "Scores: [0.01172065 0.00743654 0.00869142 0.00962229 0.01359725]\n",
      "Mean: 0.010213630366287477\n",
      "Std Deviation: 0.0021954041751608656\n",
      "Metric: 0.73\n",
      "R2-score: 0.96\n"
     ]
    }
   ],
   "source": [
    "from sklearn.linear_model import LinearRegression\n",
    "\n",
    "# train\n",
    "lin_reg = LinearRegression()\n",
    "lin_reg.fit(X_train_prepared, Y_train)\n",
    "# predict\n",
    "hackAI_predictions = lin_reg.predict(X_train_prepared)\n",
    "\n",
    "scores = cross_val_score(lin_reg, X_train_prepared, Y_train, scoring=\"neg_mean_squared_error\")\n",
    "lin_rmse_scores = np.sqrt(-scores)\n",
    "\n",
    "display_scores(lin_rmse_scores)\n",
    "print(\"Metric: %.2f\" % CountScore(Y_train.values, hackAI_predictions) )\n",
    "print(\"R2-score: %.2f\" % r2_score(hackAI_predictions , Y_train.values) )"
   ]
  },
  {
   "cell_type": "code",
   "execution_count": 38,
   "metadata": {},
   "outputs": [
    {
     "name": "stdout",
     "output_type": "stream",
     "text": [
      "Scores: [0.01187289 0.0075139  0.00886511 0.00976063 0.01392988]\n",
      "Mean: 0.010388480576662789\n",
      "Std Deviation: 0.002268172995648455\n",
      "Metric: 0.73\n",
      "R2-score: 0.95\n"
     ]
    }
   ],
   "source": [
    "from sklearn.linear_model import Ridge\n",
    "\n",
    "rid_reg = Ridge()\n",
    "rid_reg.fit(X_train_prepared, Y_train)\n",
    "# predict\n",
    "hackAI_predictions = rid_reg.predict(X_train_prepared)\n",
    "\n",
    "scores = cross_val_score(rid_reg, X_train_prepared, Y_train, scoring=\"neg_mean_squared_error\")\n",
    "rid_rmse_scores = np.sqrt(-scores)\n",
    "\n",
    "display_scores(rid_rmse_scores)\n",
    "print(\"Metric: %.2f\" % CountScore(Y_train.values, hackAI_predictions) )\n",
    "print(\"R2-score: %.2f\" % r2_score(hackAI_predictions , Y_train.values) )"
   ]
  },
  {
   "cell_type": "code",
   "execution_count": 39,
   "metadata": {},
   "outputs": [
    {
     "name": "stdout",
     "output_type": "stream",
     "text": [
      "Scores: [0.04462129 0.0492479  0.04199967 0.04384942 0.06781241]\n",
      "Mean: 0.04950613868326836\n",
      "Std Deviation: 0.00945931903538782\n",
      "Metric: 0.12\n",
      "R2-score: 0.00\n"
     ]
    }
   ],
   "source": [
    "from sklearn.linear_model import Lasso\n",
    "\n",
    "lasso_reg = Lasso()\n",
    "lasso_reg.fit(X_train_prepared, Y_train)\n",
    "# predict\n",
    "hackAI_predictions = lasso_reg.predict(X_train_prepared)\n",
    "\n",
    "scores = cross_val_score(lasso_reg, X_train_prepared, Y_train, scoring=\"neg_mean_squared_error\")\n",
    "lasso_rmse_scores = np.sqrt(-scores)\n",
    "\n",
    "display_scores(lasso_rmse_scores)\n",
    "print(\"Metric: %.2f\" % CountScore(Y_train.values, hackAI_predictions) )\n",
    "print(\"R2-score: %.2f\" % r2_score(hackAI_predictions , Y_train.values) )"
   ]
  },
  {
   "cell_type": "code",
   "execution_count": 40,
   "metadata": {},
   "outputs": [
    {
     "name": "stdout",
     "output_type": "stream",
     "text": [
      "Scores: [0.04462129 0.0492479  0.04199967 0.04384942 0.06781241]\n",
      "Mean: 0.04950613868326836\n",
      "Std Deviation: 0.00945931903538782\n",
      "Metric: 0.12\n",
      "R2-score: 0.00\n"
     ]
    }
   ],
   "source": [
    "from sklearn.linear_model import ElasticNet\n",
    "\n",
    "net_reg = ElasticNet(random_state=57)\n",
    "net_reg.fit(X_train_prepared, Y_train)\n",
    "# predict\n",
    "hackAI_predictions = net_reg.predict(X_train_prepared)\n",
    "\n",
    "scores = cross_val_score(net_reg, X_train_prepared, Y_train, scoring=\"neg_mean_squared_error\")\n",
    "net_rmse_scores = np.sqrt(-scores)\n",
    "\n",
    "display_scores(net_rmse_scores)\n",
    "print(\"Metric: %.2f\" % CountScore(Y_train.values, hackAI_predictions) )\n",
    "print(\"R2-score: %.2f\" % r2_score(hackAI_predictions , Y_train.values) )"
   ]
  },
  {
   "cell_type": "markdown",
   "metadata": {},
   "source": [
    "Если взглянуть на значение метрики, котроая расчитана по фукции организаторов хакатона, то лучшая модель это *DecisionTreeRegressor*. Однако, я выбираю *RandomForestRegressor*, потому что среднее значение ошибки и её стандарного отклонения у это модели лучше - что подтверждается моими 26-ю submit-ами (26-ю, Карл!!!).\n",
    "\n",
    "\n",
    "Используем GridSearchCV для тонкой настройки нашего случайного заповедника:"
   ]
  },
  {
   "cell_type": "code",
   "execution_count": 41,
   "metadata": {},
   "outputs": [
    {
     "name": "stdout",
     "output_type": "stream",
     "text": [
      "Fitting 5 folds for each of 12 candidates, totalling 60 fits\n"
     ]
    },
    {
     "name": "stderr",
     "output_type": "stream",
     "text": [
      "[Parallel(n_jobs=2)]: Using backend LokyBackend with 2 concurrent workers.\n",
      "[Parallel(n_jobs=2)]: Done  14 tasks      | elapsed:  2.7min\n",
      "[Parallel(n_jobs=2)]: Done  60 out of  60 | elapsed:  7.7min finished\n"
     ]
    },
    {
     "data": {
      "text/plain": [
       "GridSearchCV(cv=None, error_score=nan,\n",
       "             estimator=RandomForestRegressor(bootstrap=True, ccp_alpha=0.0,\n",
       "                                             criterion='mse', max_depth=None,\n",
       "                                             max_features='auto',\n",
       "                                             max_leaf_nodes=None,\n",
       "                                             max_samples=None,\n",
       "                                             min_impurity_decrease=0.0,\n",
       "                                             min_impurity_split=None,\n",
       "                                             min_samples_leaf=1,\n",
       "                                             min_samples_split=2,\n",
       "                                             min_weight_fraction_leaf=0.0,\n",
       "                                             n_estimators=100, n_jobs=None,\n",
       "                                             oob_score=False, random_state=57,\n",
       "                                             verbose=0, warm_start=False),\n",
       "             iid='deprecated', n_jobs=2,\n",
       "             param_grid=[{'max_features': ['auto', 'sqrt', 'log2'],\n",
       "                          'n_estimators': [30, 50, 70, 100]}],\n",
       "             pre_dispatch='2*n_jobs', refit=True, return_train_score=False,\n",
       "             scoring='neg_mean_squared_error', verbose=5)"
      ]
     },
     "execution_count": 41,
     "metadata": {},
     "output_type": "execute_result"
    }
   ],
   "source": [
    "from sklearn.model_selection import GridSearchCV\n",
    "\n",
    "param_grid = [\n",
    "    {'n_estimators': [30, 50, 70, 100], 'max_features': ['auto', 'sqrt', 'log2']}, \n",
    "]\n",
    "\n",
    "forest_reg = RandomForestRegressor(random_state=57)\n",
    "\n",
    "grid_search = GridSearchCV(forest_reg, param_grid, scoring=\"neg_mean_squared_error\", verbose=5, n_jobs=2)\n",
    "grid_search.fit(X_train_prepared, Y_train.values)"
   ]
  },
  {
   "cell_type": "code",
   "execution_count": 42,
   "metadata": {},
   "outputs": [
    {
     "data": {
      "text/plain": [
       "{'max_features': 'auto', 'n_estimators': 100}"
      ]
     },
     "execution_count": 42,
     "metadata": {},
     "output_type": "execute_result"
    }
   ],
   "source": [
    "grid_search.best_params_"
   ]
  },
  {
   "cell_type": "code",
   "execution_count": 43,
   "metadata": {},
   "outputs": [
    {
     "data": {
      "text/plain": [
       "RandomForestRegressor(bootstrap=True, ccp_alpha=0.0, criterion='mse',\n",
       "                      max_depth=None, max_features='auto', max_leaf_nodes=None,\n",
       "                      max_samples=None, min_impurity_decrease=0.0,\n",
       "                      min_impurity_split=None, min_samples_leaf=1,\n",
       "                      min_samples_split=2, min_weight_fraction_leaf=0.0,\n",
       "                      n_estimators=100, n_jobs=None, oob_score=False,\n",
       "                      random_state=57, verbose=0, warm_start=False)"
      ]
     },
     "execution_count": 43,
     "metadata": {},
     "output_type": "execute_result"
    }
   ],
   "source": [
    "grid_search.best_estimator_"
   ]
  },
  {
   "cell_type": "markdown",
   "metadata": {},
   "source": [
    "Итак, модель у нас есть - настало время предсказаний.\n",
    "\n",
    "\n",
    "Для этого откроем тестовый набор, преобразуем его тем же самым способом и предскажем недостающие значения *cpu*."
   ]
  },
  {
   "cell_type": "code",
   "execution_count": 44,
   "metadata": {},
   "outputs": [
    {
     "data": {
      "text/html": [
       "<div>\n",
       "<style scoped>\n",
       "    .dataframe tbody tr th:only-of-type {\n",
       "        vertical-align: middle;\n",
       "    }\n",
       "\n",
       "    .dataframe tbody tr th {\n",
       "        vertical-align: top;\n",
       "    }\n",
       "\n",
       "    .dataframe thead th {\n",
       "        text-align: right;\n",
       "    }\n",
       "</style>\n",
       "<table border=\"1\" class=\"dataframe\">\n",
       "  <thead>\n",
       "    <tr style=\"text-align: right;\">\n",
       "      <th></th>\n",
       "      <th>date</th>\n",
       "      <th>service_name</th>\n",
       "      <th>cpu</th>\n",
       "      <th>recieved_bytes</th>\n",
       "      <th>transmitted_bytes</th>\n",
       "    </tr>\n",
       "  </thead>\n",
       "  <tbody>\n",
       "    <tr>\n",
       "      <th>0</th>\n",
       "      <td>1603512000000000000</td>\n",
       "      <td>srv0</td>\n",
       "      <td>0.020587</td>\n",
       "      <td>34285.98</td>\n",
       "      <td>95601.43</td>\n",
       "    </tr>\n",
       "    <tr>\n",
       "      <th>1</th>\n",
       "      <td>1603512300000000000</td>\n",
       "      <td>srv0</td>\n",
       "      <td>0.021137</td>\n",
       "      <td>42330.43</td>\n",
       "      <td>96762.45</td>\n",
       "    </tr>\n",
       "    <tr>\n",
       "      <th>2</th>\n",
       "      <td>1603512600000000000</td>\n",
       "      <td>srv0</td>\n",
       "      <td>0.021553</td>\n",
       "      <td>35407.80</td>\n",
       "      <td>99925.01</td>\n",
       "    </tr>\n",
       "    <tr>\n",
       "      <th>3</th>\n",
       "      <td>1603512900000000000</td>\n",
       "      <td>srv0</td>\n",
       "      <td>0.021571</td>\n",
       "      <td>36284.38</td>\n",
       "      <td>98606.03</td>\n",
       "    </tr>\n",
       "    <tr>\n",
       "      <th>4</th>\n",
       "      <td>1603513200000000000</td>\n",
       "      <td>srv0</td>\n",
       "      <td>0.021617</td>\n",
       "      <td>42170.67</td>\n",
       "      <td>101624.80</td>\n",
       "    </tr>\n",
       "  </tbody>\n",
       "</table>\n",
       "</div>"
      ],
      "text/plain": [
       "                  date service_name       cpu  recieved_bytes  \\\n",
       "0  1603512000000000000         srv0  0.020587        34285.98   \n",
       "1  1603512300000000000         srv0  0.021137        42330.43   \n",
       "2  1603512600000000000         srv0  0.021553        35407.80   \n",
       "3  1603512900000000000         srv0  0.021571        36284.38   \n",
       "4  1603513200000000000         srv0  0.021617        42170.67   \n",
       "\n",
       "   transmitted_bytes  \n",
       "0           95601.43  \n",
       "1           96762.45  \n",
       "2           99925.01  \n",
       "3           98606.03  \n",
       "4          101624.80  "
      ]
     },
     "execution_count": 44,
     "metadata": {},
     "output_type": "execute_result"
    }
   ],
   "source": [
    "df_test = pd.read_csv('test.csv')\n",
    "df_test.head()"
   ]
  },
  {
   "cell_type": "code",
   "execution_count": 45,
   "metadata": {
    "collapsed": true
   },
   "outputs": [],
   "source": [
    "df_test.fillna(value=0, inplace=True)"
   ]
  },
  {
   "cell_type": "code",
   "execution_count": 46,
   "metadata": {},
   "outputs": [
    {
     "data": {
      "text/plain": [
       "srv1    2640\n",
       "srv2    2640\n",
       "srv3    2616\n",
       "srv0    2616\n",
       "Name: service_name, dtype: int64"
      ]
     },
     "execution_count": 46,
     "metadata": {},
     "output_type": "execute_result"
    }
   ],
   "source": [
    "df_test['service_name'].value_counts()"
   ]
  },
  {
   "cell_type": "code",
   "execution_count": 47,
   "metadata": {
    "collapsed": true
   },
   "outputs": [],
   "source": [
    "df_test['timestamp'] = pd.to_datetime(df_test['date'])\n",
    "df_test['day_of_week'] = df_test['timestamp'].dt.dayofweek.astype(int)\n",
    "df_test['hour_of_measure'] = df_test['timestamp'].dt.hour.astype(int)\n",
    "df_test['index_of_measure'] = (df_test['timestamp'].dt.minute/5).astype(int)"
   ]
  },
  {
   "cell_type": "code",
   "execution_count": 48,
   "metadata": {},
   "outputs": [
    {
     "data": {
      "text/plain": [
       "6    1920\n",
       "0    1872\n",
       "5    1728\n",
       "1    1344\n",
       "4    1248\n",
       "2    1248\n",
       "3    1152\n",
       "Name: day_of_week, dtype: int64"
      ]
     },
     "execution_count": 48,
     "metadata": {},
     "output_type": "execute_result"
    }
   ],
   "source": [
    "df_test['day_of_week'].value_counts()"
   ]
  },
  {
   "cell_type": "code",
   "execution_count": 49,
   "metadata": {},
   "outputs": [
    {
     "data": {
      "text/plain": [
       "13    1008\n",
       "12    1008\n",
       "5      912\n",
       "4      912\n",
       "9      864\n",
       "1      864\n",
       "8      864\n",
       "0      864\n",
       "17     840\n",
       "16     840\n",
       "21     768\n",
       "20     768\n",
       "Name: hour_of_measure, dtype: int64"
      ]
     },
     "execution_count": 49,
     "metadata": {},
     "output_type": "execute_result"
    }
   ],
   "source": [
    "df_test['hour_of_measure'].value_counts()"
   ]
  },
  {
   "cell_type": "markdown",
   "metadata": {},
   "source": [
    "Используем уже посчитанные средние значения за день, за час и за измерение:"
   ]
  },
  {
   "cell_type": "code",
   "execution_count": 50,
   "metadata": {
    "collapsed": true
   },
   "outputs": [],
   "source": [
    "df_test['cpu_daily_mean'] = df_test[['service_name','day_of_week']].apply(lambda x: df_daily_mean.loc[x[1],x[0]][0], axis=1)\n",
    "df_test['cpu_hourly_mean'] = df_test[['service_name','day_of_week','hour_of_measure']].apply(lambda x: df_hourly_mean.loc[x[1],x[2],x[0]][0], axis=1)\n",
    "df_test['cpu_measure_mean'] = df_test[['service_name','day_of_week','hour_of_measure','index_of_measure']].apply(lambda x: df_measure_mean.loc[x[1],x[2],x[3],x[0]][0], axis=1)"
   ]
  },
  {
   "cell_type": "markdown",
   "metadata": {},
   "source": [
    "Также разделим набор по сервисам, посчитаем предыдущие значения и сложим обратно:"
   ]
  },
  {
   "cell_type": "code",
   "execution_count": 52,
   "metadata": {
    "collapsed": true
   },
   "outputs": [],
   "source": [
    "df_test_srv0 = df_test[df_test['service_name'] == 'srv0'].copy()\n",
    "df_test_srv1 = df_test[df_test['service_name'] == 'srv1'].copy()\n",
    "df_test_srv2 = df_test[df_test['service_name'] == 'srv2'].copy()\n",
    "df_test_srv3 = df_test[df_test['service_name'] == 'srv3'].copy()"
   ]
  },
  {
   "cell_type": "code",
   "execution_count": 53,
   "metadata": {
    "collapsed": true
   },
   "outputs": [],
   "source": [
    "df_test_srv0['prev_cpu'] = df_test_srv0['cpu'].shift(12)\n",
    "df_test_srv1['prev_cpu'] = df_test_srv1['cpu'].shift(12)\n",
    "df_test_srv2['prev_cpu'] = df_test_srv2['cpu'].shift(12)\n",
    "df_test_srv3['prev_cpu'] = df_test_srv3['cpu'].shift(12)"
   ]
  },
  {
   "cell_type": "code",
   "execution_count": 54,
   "metadata": {
    "collapsed": true
   },
   "outputs": [],
   "source": [
    "df_test_dataset = pd.concat([df_test_srv0, df_test_srv1, df_test_srv2, df_test_srv3])"
   ]
  },
  {
   "cell_type": "code",
   "execution_count": 55,
   "metadata": {
    "collapsed": true
   },
   "outputs": [],
   "source": [
    "X_test = df_test_dataset[['service_name','day_of_week','hour_of_measure','index_of_measure','prev_cpu','cpu_daily_mean','cpu_hourly_mean','cpu_measure_mean']].copy()\n",
    "Y_test = df_test_dataset['cpu'].copy()"
   ]
  },
  {
   "cell_type": "markdown",
   "metadata": {},
   "source": [
    "Поскольку нужно определить только пропущенные значения *cpu*, выделим их из всего набора:"
   ]
  },
  {
   "cell_type": "code",
   "execution_count": 56,
   "metadata": {},
   "outputs": [
    {
     "data": {
      "text/html": [
       "<div>\n",
       "<style scoped>\n",
       "    .dataframe tbody tr th:only-of-type {\n",
       "        vertical-align: middle;\n",
       "    }\n",
       "\n",
       "    .dataframe tbody tr th {\n",
       "        vertical-align: top;\n",
       "    }\n",
       "\n",
       "    .dataframe thead th {\n",
       "        text-align: right;\n",
       "    }\n",
       "</style>\n",
       "<table border=\"1\" class=\"dataframe\">\n",
       "  <thead>\n",
       "    <tr style=\"text-align: right;\">\n",
       "      <th></th>\n",
       "      <th>service_name</th>\n",
       "      <th>day_of_week</th>\n",
       "      <th>hour_of_measure</th>\n",
       "      <th>index_of_measure</th>\n",
       "      <th>prev_cpu</th>\n",
       "      <th>cpu_daily_mean</th>\n",
       "      <th>cpu_hourly_mean</th>\n",
       "      <th>cpu_measure_mean</th>\n",
       "    </tr>\n",
       "  </thead>\n",
       "  <tbody>\n",
       "    <tr>\n",
       "      <th>12</th>\n",
       "      <td>srv0</td>\n",
       "      <td>5</td>\n",
       "      <td>5</td>\n",
       "      <td>0</td>\n",
       "      <td>0.020587</td>\n",
       "      <td>0.034683</td>\n",
       "      <td>0.015027</td>\n",
       "      <td>0.012960</td>\n",
       "    </tr>\n",
       "    <tr>\n",
       "      <th>13</th>\n",
       "      <td>srv0</td>\n",
       "      <td>5</td>\n",
       "      <td>5</td>\n",
       "      <td>1</td>\n",
       "      <td>0.021137</td>\n",
       "      <td>0.034683</td>\n",
       "      <td>0.015027</td>\n",
       "      <td>0.013192</td>\n",
       "    </tr>\n",
       "    <tr>\n",
       "      <th>14</th>\n",
       "      <td>srv0</td>\n",
       "      <td>5</td>\n",
       "      <td>5</td>\n",
       "      <td>2</td>\n",
       "      <td>0.021553</td>\n",
       "      <td>0.034683</td>\n",
       "      <td>0.015027</td>\n",
       "      <td>0.013571</td>\n",
       "    </tr>\n",
       "    <tr>\n",
       "      <th>15</th>\n",
       "      <td>srv0</td>\n",
       "      <td>5</td>\n",
       "      <td>5</td>\n",
       "      <td>3</td>\n",
       "      <td>0.021571</td>\n",
       "      <td>0.034683</td>\n",
       "      <td>0.015027</td>\n",
       "      <td>0.014070</td>\n",
       "    </tr>\n",
       "    <tr>\n",
       "      <th>16</th>\n",
       "      <td>srv0</td>\n",
       "      <td>5</td>\n",
       "      <td>5</td>\n",
       "      <td>4</td>\n",
       "      <td>0.021617</td>\n",
       "      <td>0.034683</td>\n",
       "      <td>0.015027</td>\n",
       "      <td>0.014404</td>\n",
       "    </tr>\n",
       "    <tr>\n",
       "      <th>...</th>\n",
       "      <td>...</td>\n",
       "      <td>...</td>\n",
       "      <td>...</td>\n",
       "      <td>...</td>\n",
       "      <td>...</td>\n",
       "      <td>...</td>\n",
       "      <td>...</td>\n",
       "      <td>...</td>\n",
       "    </tr>\n",
       "    <tr>\n",
       "      <th>10507</th>\n",
       "      <td>srv3</td>\n",
       "      <td>2</td>\n",
       "      <td>13</td>\n",
       "      <td>7</td>\n",
       "      <td>0.162288</td>\n",
       "      <td>0.090530</td>\n",
       "      <td>0.152080</td>\n",
       "      <td>0.149263</td>\n",
       "    </tr>\n",
       "    <tr>\n",
       "      <th>10508</th>\n",
       "      <td>srv3</td>\n",
       "      <td>2</td>\n",
       "      <td>13</td>\n",
       "      <td>8</td>\n",
       "      <td>0.161447</td>\n",
       "      <td>0.090530</td>\n",
       "      <td>0.152080</td>\n",
       "      <td>0.148725</td>\n",
       "    </tr>\n",
       "    <tr>\n",
       "      <th>10509</th>\n",
       "      <td>srv3</td>\n",
       "      <td>2</td>\n",
       "      <td>13</td>\n",
       "      <td>9</td>\n",
       "      <td>0.161522</td>\n",
       "      <td>0.090530</td>\n",
       "      <td>0.152080</td>\n",
       "      <td>0.147570</td>\n",
       "    </tr>\n",
       "    <tr>\n",
       "      <th>10510</th>\n",
       "      <td>srv3</td>\n",
       "      <td>2</td>\n",
       "      <td>13</td>\n",
       "      <td>10</td>\n",
       "      <td>0.161806</td>\n",
       "      <td>0.090530</td>\n",
       "      <td>0.152080</td>\n",
       "      <td>0.148279</td>\n",
       "    </tr>\n",
       "    <tr>\n",
       "      <th>10511</th>\n",
       "      <td>srv3</td>\n",
       "      <td>2</td>\n",
       "      <td>13</td>\n",
       "      <td>11</td>\n",
       "      <td>0.162797</td>\n",
       "      <td>0.090530</td>\n",
       "      <td>0.152080</td>\n",
       "      <td>0.147937</td>\n",
       "    </tr>\n",
       "  </tbody>\n",
       "</table>\n",
       "<p>5256 rows × 8 columns</p>\n",
       "</div>"
      ],
      "text/plain": [
       "      service_name  day_of_week  hour_of_measure  index_of_measure  prev_cpu  \\\n",
       "12            srv0            5                5                 0  0.020587   \n",
       "13            srv0            5                5                 1  0.021137   \n",
       "14            srv0            5                5                 2  0.021553   \n",
       "15            srv0            5                5                 3  0.021571   \n",
       "16            srv0            5                5                 4  0.021617   \n",
       "...            ...          ...              ...               ...       ...   \n",
       "10507         srv3            2               13                 7  0.162288   \n",
       "10508         srv3            2               13                 8  0.161447   \n",
       "10509         srv3            2               13                 9  0.161522   \n",
       "10510         srv3            2               13                10  0.161806   \n",
       "10511         srv3            2               13                11  0.162797   \n",
       "\n",
       "       cpu_daily_mean  cpu_hourly_mean  cpu_measure_mean  \n",
       "12           0.034683         0.015027          0.012960  \n",
       "13           0.034683         0.015027          0.013192  \n",
       "14           0.034683         0.015027          0.013571  \n",
       "15           0.034683         0.015027          0.014070  \n",
       "16           0.034683         0.015027          0.014404  \n",
       "...               ...              ...               ...  \n",
       "10507        0.090530         0.152080          0.149263  \n",
       "10508        0.090530         0.152080          0.148725  \n",
       "10509        0.090530         0.152080          0.147570  \n",
       "10510        0.090530         0.152080          0.148279  \n",
       "10511        0.090530         0.152080          0.147937  \n",
       "\n",
       "[5256 rows x 8 columns]"
      ]
     },
     "execution_count": 56,
     "metadata": {},
     "output_type": "execute_result"
    }
   ],
   "source": [
    "X_test_missed = X_test[Y_test==0]\n",
    "Y_test_missed = Y_test[Y_test==0]\n",
    "X_test_missed"
   ]
  },
  {
   "cell_type": "markdown",
   "metadata": {},
   "source": [
    "Используем нашу модель для предсказания:"
   ]
  },
  {
   "cell_type": "code",
   "execution_count": 57,
   "metadata": {},
   "outputs": [
    {
     "data": {
      "text/plain": [
       "array([0.02715811, 0.02723461, 0.02821832, ..., 0.1656307 , 0.16701092,\n",
       "       0.17275344])"
      ]
     },
     "execution_count": 57,
     "metadata": {},
     "output_type": "execute_result"
    }
   ],
   "source": [
    "from sklearn.metrics import mean_squared_error\n",
    "\n",
    "\n",
    "final_model = grid_search.best_estimator_\n",
    "X_test_prepared = full_pipeline.transform(X_test_missed)\n",
    "Y_test_missed = final_model.predict(X_test_prepared)\n",
    "Y_test_missed"
   ]
  },
  {
   "cell_type": "markdown",
   "metadata": {},
   "source": [
    "Заполним пробелы:"
   ]
  },
  {
   "cell_type": "code",
   "execution_count": 58,
   "metadata": {
    "collapsed": true
   },
   "outputs": [],
   "source": [
    "df_test_dataset.loc[df_test_dataset['cpu']==0,['cpu']] = Y_test_missed"
   ]
  },
  {
   "cell_type": "code",
   "execution_count": 59,
   "metadata": {},
   "outputs": [
    {
     "data": {
      "text/html": [
       "<div>\n",
       "<style scoped>\n",
       "    .dataframe tbody tr th:only-of-type {\n",
       "        vertical-align: middle;\n",
       "    }\n",
       "\n",
       "    .dataframe tbody tr th {\n",
       "        vertical-align: top;\n",
       "    }\n",
       "\n",
       "    .dataframe thead th {\n",
       "        text-align: right;\n",
       "    }\n",
       "</style>\n",
       "<table border=\"1\" class=\"dataframe\">\n",
       "  <thead>\n",
       "    <tr style=\"text-align: right;\">\n",
       "      <th></th>\n",
       "      <th>date</th>\n",
       "      <th>service_name</th>\n",
       "      <th>cpu</th>\n",
       "      <th>recieved_bytes</th>\n",
       "      <th>transmitted_bytes</th>\n",
       "      <th>timestamp</th>\n",
       "      <th>day_of_week</th>\n",
       "      <th>hour_of_measure</th>\n",
       "      <th>index_of_measure</th>\n",
       "      <th>cpu_daily_mean</th>\n",
       "      <th>cpu_hourly_mean</th>\n",
       "      <th>cpu_measure_mean</th>\n",
       "      <th>prev_cpu</th>\n",
       "    </tr>\n",
       "  </thead>\n",
       "  <tbody>\n",
       "    <tr>\n",
       "      <th>0</th>\n",
       "      <td>1603512000000000000</td>\n",
       "      <td>srv0</td>\n",
       "      <td>0.020587</td>\n",
       "      <td>34285.98</td>\n",
       "      <td>95601.43</td>\n",
       "      <td>2020-10-24 04:00:00</td>\n",
       "      <td>5</td>\n",
       "      <td>4</td>\n",
       "      <td>0</td>\n",
       "      <td>0.034683</td>\n",
       "      <td>0.011245</td>\n",
       "      <td>0.010018</td>\n",
       "      <td>NaN</td>\n",
       "    </tr>\n",
       "    <tr>\n",
       "      <th>1</th>\n",
       "      <td>1603512300000000000</td>\n",
       "      <td>srv0</td>\n",
       "      <td>0.021137</td>\n",
       "      <td>42330.43</td>\n",
       "      <td>96762.45</td>\n",
       "      <td>2020-10-24 04:05:00</td>\n",
       "      <td>5</td>\n",
       "      <td>4</td>\n",
       "      <td>1</td>\n",
       "      <td>0.034683</td>\n",
       "      <td>0.011245</td>\n",
       "      <td>0.010391</td>\n",
       "      <td>NaN</td>\n",
       "    </tr>\n",
       "    <tr>\n",
       "      <th>2</th>\n",
       "      <td>1603512600000000000</td>\n",
       "      <td>srv0</td>\n",
       "      <td>0.021553</td>\n",
       "      <td>35407.80</td>\n",
       "      <td>99925.01</td>\n",
       "      <td>2020-10-24 04:10:00</td>\n",
       "      <td>5</td>\n",
       "      <td>4</td>\n",
       "      <td>2</td>\n",
       "      <td>0.034683</td>\n",
       "      <td>0.011245</td>\n",
       "      <td>0.010577</td>\n",
       "      <td>NaN</td>\n",
       "    </tr>\n",
       "    <tr>\n",
       "      <th>3</th>\n",
       "      <td>1603512900000000000</td>\n",
       "      <td>srv0</td>\n",
       "      <td>0.021571</td>\n",
       "      <td>36284.38</td>\n",
       "      <td>98606.03</td>\n",
       "      <td>2020-10-24 04:15:00</td>\n",
       "      <td>5</td>\n",
       "      <td>4</td>\n",
       "      <td>3</td>\n",
       "      <td>0.034683</td>\n",
       "      <td>0.011245</td>\n",
       "      <td>0.010436</td>\n",
       "      <td>NaN</td>\n",
       "    </tr>\n",
       "    <tr>\n",
       "      <th>4</th>\n",
       "      <td>1603513200000000000</td>\n",
       "      <td>srv0</td>\n",
       "      <td>0.021617</td>\n",
       "      <td>42170.67</td>\n",
       "      <td>101624.80</td>\n",
       "      <td>2020-10-24 04:20:00</td>\n",
       "      <td>5</td>\n",
       "      <td>4</td>\n",
       "      <td>4</td>\n",
       "      <td>0.034683</td>\n",
       "      <td>0.011245</td>\n",
       "      <td>0.010651</td>\n",
       "      <td>NaN</td>\n",
       "    </tr>\n",
       "    <tr>\n",
       "      <th>...</th>\n",
       "      <td>...</td>\n",
       "      <td>...</td>\n",
       "      <td>...</td>\n",
       "      <td>...</td>\n",
       "      <td>...</td>\n",
       "      <td>...</td>\n",
       "      <td>...</td>\n",
       "      <td>...</td>\n",
       "      <td>...</td>\n",
       "      <td>...</td>\n",
       "      <td>...</td>\n",
       "      <td>...</td>\n",
       "      <td>...</td>\n",
       "    </tr>\n",
       "    <tr>\n",
       "      <th>10507</th>\n",
       "      <td>1605706500000000000</td>\n",
       "      <td>srv3</td>\n",
       "      <td>0.169182</td>\n",
       "      <td>0.00</td>\n",
       "      <td>0.00</td>\n",
       "      <td>2020-11-18 13:35:00</td>\n",
       "      <td>2</td>\n",
       "      <td>13</td>\n",
       "      <td>7</td>\n",
       "      <td>0.090530</td>\n",
       "      <td>0.152080</td>\n",
       "      <td>0.149263</td>\n",
       "      <td>0.162288</td>\n",
       "    </tr>\n",
       "    <tr>\n",
       "      <th>10508</th>\n",
       "      <td>1605706800000000000</td>\n",
       "      <td>srv3</td>\n",
       "      <td>0.164649</td>\n",
       "      <td>0.00</td>\n",
       "      <td>0.00</td>\n",
       "      <td>2020-11-18 13:40:00</td>\n",
       "      <td>2</td>\n",
       "      <td>13</td>\n",
       "      <td>8</td>\n",
       "      <td>0.090530</td>\n",
       "      <td>0.152080</td>\n",
       "      <td>0.148725</td>\n",
       "      <td>0.161447</td>\n",
       "    </tr>\n",
       "    <tr>\n",
       "      <th>10509</th>\n",
       "      <td>1605707100000000000</td>\n",
       "      <td>srv3</td>\n",
       "      <td>0.165631</td>\n",
       "      <td>0.00</td>\n",
       "      <td>0.00</td>\n",
       "      <td>2020-11-18 13:45:00</td>\n",
       "      <td>2</td>\n",
       "      <td>13</td>\n",
       "      <td>9</td>\n",
       "      <td>0.090530</td>\n",
       "      <td>0.152080</td>\n",
       "      <td>0.147570</td>\n",
       "      <td>0.161522</td>\n",
       "    </tr>\n",
       "    <tr>\n",
       "      <th>10510</th>\n",
       "      <td>1605707400000000000</td>\n",
       "      <td>srv3</td>\n",
       "      <td>0.167011</td>\n",
       "      <td>0.00</td>\n",
       "      <td>0.00</td>\n",
       "      <td>2020-11-18 13:50:00</td>\n",
       "      <td>2</td>\n",
       "      <td>13</td>\n",
       "      <td>10</td>\n",
       "      <td>0.090530</td>\n",
       "      <td>0.152080</td>\n",
       "      <td>0.148279</td>\n",
       "      <td>0.161806</td>\n",
       "    </tr>\n",
       "    <tr>\n",
       "      <th>10511</th>\n",
       "      <td>1605707700000000000</td>\n",
       "      <td>srv3</td>\n",
       "      <td>0.172753</td>\n",
       "      <td>0.00</td>\n",
       "      <td>0.00</td>\n",
       "      <td>2020-11-18 13:55:00</td>\n",
       "      <td>2</td>\n",
       "      <td>13</td>\n",
       "      <td>11</td>\n",
       "      <td>0.090530</td>\n",
       "      <td>0.152080</td>\n",
       "      <td>0.147937</td>\n",
       "      <td>0.162797</td>\n",
       "    </tr>\n",
       "  </tbody>\n",
       "</table>\n",
       "<p>10512 rows × 13 columns</p>\n",
       "</div>"
      ],
      "text/plain": [
       "                      date service_name       cpu  recieved_bytes  \\\n",
       "0      1603512000000000000         srv0  0.020587        34285.98   \n",
       "1      1603512300000000000         srv0  0.021137        42330.43   \n",
       "2      1603512600000000000         srv0  0.021553        35407.80   \n",
       "3      1603512900000000000         srv0  0.021571        36284.38   \n",
       "4      1603513200000000000         srv0  0.021617        42170.67   \n",
       "...                    ...          ...       ...             ...   \n",
       "10507  1605706500000000000         srv3  0.169182            0.00   \n",
       "10508  1605706800000000000         srv3  0.164649            0.00   \n",
       "10509  1605707100000000000         srv3  0.165631            0.00   \n",
       "10510  1605707400000000000         srv3  0.167011            0.00   \n",
       "10511  1605707700000000000         srv3  0.172753            0.00   \n",
       "\n",
       "       transmitted_bytes           timestamp  day_of_week  hour_of_measure  \\\n",
       "0               95601.43 2020-10-24 04:00:00            5                4   \n",
       "1               96762.45 2020-10-24 04:05:00            5                4   \n",
       "2               99925.01 2020-10-24 04:10:00            5                4   \n",
       "3               98606.03 2020-10-24 04:15:00            5                4   \n",
       "4              101624.80 2020-10-24 04:20:00            5                4   \n",
       "...                  ...                 ...          ...              ...   \n",
       "10507               0.00 2020-11-18 13:35:00            2               13   \n",
       "10508               0.00 2020-11-18 13:40:00            2               13   \n",
       "10509               0.00 2020-11-18 13:45:00            2               13   \n",
       "10510               0.00 2020-11-18 13:50:00            2               13   \n",
       "10511               0.00 2020-11-18 13:55:00            2               13   \n",
       "\n",
       "       index_of_measure  cpu_daily_mean  cpu_hourly_mean  cpu_measure_mean  \\\n",
       "0                     0        0.034683         0.011245          0.010018   \n",
       "1                     1        0.034683         0.011245          0.010391   \n",
       "2                     2        0.034683         0.011245          0.010577   \n",
       "3                     3        0.034683         0.011245          0.010436   \n",
       "4                     4        0.034683         0.011245          0.010651   \n",
       "...                 ...             ...              ...               ...   \n",
       "10507                 7        0.090530         0.152080          0.149263   \n",
       "10508                 8        0.090530         0.152080          0.148725   \n",
       "10509                 9        0.090530         0.152080          0.147570   \n",
       "10510                10        0.090530         0.152080          0.148279   \n",
       "10511                11        0.090530         0.152080          0.147937   \n",
       "\n",
       "       prev_cpu  \n",
       "0           NaN  \n",
       "1           NaN  \n",
       "2           NaN  \n",
       "3           NaN  \n",
       "4           NaN  \n",
       "...         ...  \n",
       "10507  0.162288  \n",
       "10508  0.161447  \n",
       "10509  0.161522  \n",
       "10510  0.161806  \n",
       "10511  0.162797  \n",
       "\n",
       "[10512 rows x 13 columns]"
      ]
     },
     "execution_count": 59,
     "metadata": {},
     "output_type": "execute_result"
    }
   ],
   "source": [
    "df_test_dataset"
   ]
  },
  {
   "cell_type": "markdown",
   "metadata": {},
   "source": [
    "Записываем решение в файл:"
   ]
  },
  {
   "cell_type": "code",
   "execution_count": 61,
   "metadata": {
    "collapsed": true
   },
   "outputs": [],
   "source": [
    "df_test_dataset.to_csv('submission_hackAI.csv', columns=['date','service_name','cpu'], index=False)"
   ]
  },
  {
   "cell_type": "markdown",
   "metadata": {
    "collapsed": true
   },
   "source": [
    "---\n",
    "Вот как-то так. \n",
    "\n",
    "\n",
    "Сильно не бейте - пианист играет как умеет.\n",
    "\n",
    "\n",
    "\n",
    "<p>\n",
    "**С уважением**,<br> \n",
    "Вест Андрей Владимирович<br>\n",
    "Главный инженер по разработке<br>\n",
    "IT-Сопровождение АС Трайб CBP<br>\n",
    "г.Санкт-Петербург<br>\n",
    "Вн.тел.: 8-789-19382.<br>\n",
    "</p>"
   ]
  },
  {
   "cell_type": "code",
   "execution_count": null,
   "metadata": {
    "collapsed": true
   },
   "outputs": [],
   "source": []
  }
 ],
 "metadata": {
  "kernelspec": {
   "display_name": "Python 3",
   "language": "python",
   "name": "python3"
  },
  "language_info": {
   "codemirror_mode": {
    "name": "ipython",
    "version": 3
   },
   "file_extension": ".py",
   "mimetype": "text/x-python",
   "name": "python",
   "nbconvert_exporter": "python",
   "pygments_lexer": "ipython3",
   "version": "3.6.2"
  }
 },
 "nbformat": 4,
 "nbformat_minor": 2
}
